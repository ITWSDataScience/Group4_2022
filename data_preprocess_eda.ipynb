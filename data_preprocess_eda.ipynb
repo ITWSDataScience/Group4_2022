{
  "cells": [
    {
      "cell_type": "code",
      "execution_count": 4,
      "metadata": {
        "id": "_9BVl87QOpzK"
      },
      "outputs": [],
      "source": [
        "from netCDF4 import Dataset\n",
        "import numpy as np\n",
        "import matplotlib.pyplot as plt\n",
        "import cartopy as ccrs\n",
        "from cartopy.mpl.gridliner import LONGITUDE_FORMATTER, LATITUDE_FORMATTER\n",
        "import matplotlib.ticker as mticker\n",
        "import pandas as pd\n",
        "import math"
      ]
    },
    {
      "cell_type": "code",
      "source": [
        "!pip install cartopy\n",
        "import cartopy"
      ],
      "metadata": {
        "colab": {
          "base_uri": "https://localhost:8080/"
        },
        "id": "umiUq9WQpD3S",
        "outputId": "2a9fbf8c-8d5d-405c-e4a0-d3656da355b7"
      },
      "execution_count": 5,
      "outputs": [
        {
          "output_type": "stream",
          "name": "stdout",
          "text": [
            "Looking in indexes: https://pypi.org/simple, https://us-python.pkg.dev/colab-wheels/public/simple/\n",
            "Requirement already satisfied: cartopy in /usr/local/lib/python3.8/dist-packages (0.19.0.post1)\n",
            "Requirement already satisfied: shapely>=1.5.6 in /usr/local/lib/python3.8/dist-packages (from cartopy) (1.8.5.post1)\n",
            "Requirement already satisfied: pyshp>=2 in /usr/local/lib/python3.8/dist-packages (from cartopy) (2.3.1)\n",
            "Requirement already satisfied: numpy>=1.13.3 in /usr/local/lib/python3.8/dist-packages (from cartopy) (1.21.6)\n"
          ]
        }
      ]
    },
    {
      "cell_type": "code",
      "source": [
        "from google.colab import drive\n",
        "drive.mount('/content/drive')"
      ],
      "metadata": {
        "colab": {
          "base_uri": "https://localhost:8080/"
        },
        "id": "xX6lMIerQaeW",
        "outputId": "9ad07eae-72dc-4ccb-f419-6b8b52e29e93"
      },
      "execution_count": 6,
      "outputs": [
        {
          "output_type": "stream",
          "name": "stdout",
          "text": [
            "Drive already mounted at /content/drive; to attempt to forcibly remount, call drive.mount(\"/content/drive\", force_remount=True).\n"
          ]
        }
      ]
    },
    {
      "cell_type": "code",
      "execution_count": 7,
      "metadata": {
        "id": "Ri72Hpj1OpzO"
      },
      "outputs": [],
      "source": [
        "data = Dataset('/content/drive/MyDrive/Data Science/nasa.nc4', mode='r')"
      ]
    },
    {
      "cell_type": "code",
      "execution_count": 8,
      "metadata": {
        "colab": {
          "base_uri": "https://localhost:8080/"
        },
        "id": "oNf46fXdOpzP",
        "outputId": "884581a3-f4c0-4928-8247-0a8c197e7a0e"
      },
      "outputs": [
        {
          "output_type": "execute_result",
          "data": {
            "text/plain": [
              "<class 'netCDF4._netCDF4.Dataset'>\n",
              "root group (NETCDF4 data model, file format HDF5):\n",
              "    History: Original file generated: Fri Dec 17 16:02:55 2021 GMT\n",
              "    Comment: GMAO filename: d5124_m2_jan10.tavg1_2d_flx_Nx.20211201.nc4\n",
              "    Filename: MERRA2_400.tavg1_2d_flx_Nx.20211201.nc4\n",
              "    Conventions: CF-1\n",
              "    Institution: NASA Global Modeling and Assimilation Office\n",
              "    References: http://gmao.gsfc.nasa.gov\n",
              "    Format: NetCDF-4/HDF-5\n",
              "    SpatialCoverage: global\n",
              "    VersionID: 5.12.4\n",
              "    TemporalRange: 1980-01-01 -> 2016-12-31\n",
              "    identifier_product_doi_authority: http://dx.doi.org/\n",
              "    ShortName: M2T1NXFLX\n",
              "    GranuleID: MERRA2_400.tavg1_2d_flx_Nx.20211201.nc4\n",
              "    ProductionDateTime: Original file generated: Fri Dec 17 16:02:55 2021 GMT\n",
              "    LongName: MERRA2 tavg1_2d_flx_Nx: 2d,1-Hourly,Time-Averaged,Single-Level,Assimilation,Surface Flux Diagnostics\n",
              "    Title: MERRA2 tavg1_2d_flx_Nx: 2d,1-Hourly,Time-Averaged,Single-Level,Assimilation,Surface Flux Diagnostics\n",
              "    SouthernmostLatitude: -90.0\n",
              "    NorthernmostLatitude: 90.0\n",
              "    WesternmostLongitude: -180.0\n",
              "    EasternmostLongitude: 179.375\n",
              "    LatitudeResolution: 0.5\n",
              "    LongitudeResolution: 0.625\n",
              "    DataResolution: 0.5 x 0.625\n",
              "    Source: CVS tag: GEOSadas-5_12_4_p30_SLES12_M2-OPS\n",
              "    Contact: http://gmao.gsfc.nasa.gov\n",
              "    identifier_product_doi: 10.5067/7MCPBJ41Y0K6\n",
              "    RangeBeginningDate: 2021-12-01\n",
              "    RangeBeginningTime: 00:00:00.000000\n",
              "    RangeEndingDate: 2021-12-01\n",
              "    RangeEndingTime: 23:59:59.000000\n",
              "    dimensions(sizes): lon(576), lat(361), time(24)\n",
              "    variables(dimensions): float64 lon(lon), float64 lat(lat), int32 time(time), float32 BSTAR(time, lat, lon), float32 CDH(time, lat, lon), float32 CDM(time, lat, lon), float32 CDQ(time, lat, lon), float32 CN(time, lat, lon), float32 DISPH(time, lat, lon), float32 EFLUX(time, lat, lon), float32 EVAP(time, lat, lon), float32 FRCAN(time, lat, lon), float32 FRCCN(time, lat, lon), float32 FRCLS(time, lat, lon), float32 FRSEAICE(time, lat, lon), float32 GHTSKIN(time, lat, lon), float32 HFLUX(time, lat, lon), float32 HLML(time, lat, lon), float32 NIRDF(time, lat, lon), float32 NIRDR(time, lat, lon), float32 PBLH(time, lat, lon), float32 PGENTOT(time, lat, lon), float32 PRECANV(time, lat, lon), float32 PRECCON(time, lat, lon), float32 PRECLSC(time, lat, lon), float32 PRECSNO(time, lat, lon), float32 PRECTOT(time, lat, lon), float32 PRECTOTCORR(time, lat, lon), float32 PREVTOT(time, lat, lon), float32 QLML(time, lat, lon), float32 QSH(time, lat, lon), float32 QSTAR(time, lat, lon), float32 RHOA(time, lat, lon), float32 RISFC(time, lat, lon), float32 SPEED(time, lat, lon), float32 SPEEDMAX(time, lat, lon), float32 TAUGWX(time, lat, lon), float32 TAUGWY(time, lat, lon), float32 TAUX(time, lat, lon), float32 TAUY(time, lat, lon), float32 TCZPBL(time, lat, lon), float32 TLML(time, lat, lon), float32 TSH(time, lat, lon), float32 TSTAR(time, lat, lon), float32 ULML(time, lat, lon), float32 USTAR(time, lat, lon), float32 VLML(time, lat, lon), float32 Z0H(time, lat, lon), float32 Z0M(time, lat, lon)\n",
              "    groups: "
            ]
          },
          "metadata": {},
          "execution_count": 8
        }
      ],
      "source": [
        "data #metadata information"
      ]
    },
    {
      "cell_type": "code",
      "execution_count": 9,
      "metadata": {
        "id": "Da4i5NJHOpzQ"
      },
      "outputs": [],
      "source": [
        "# longitude and latitude\n",
        "lons = data.variables['lon']\n",
        "lats = data.variables['lat']\n",
        "\n",
        "# wind speed\n",
        "speed = data.variables['SPEED']\n"
      ]
    },
    {
      "cell_type": "code",
      "execution_count": 10,
      "metadata": {
        "colab": {
          "base_uri": "https://localhost:8080/"
        },
        "id": "cJBMDg_-OpzR",
        "outputId": "49a28b17-e589-4594-f0fe-938a4c5702c1"
      },
      "outputs": [
        {
          "output_type": "execute_result",
          "data": {
            "text/plain": [
              "576"
            ]
          },
          "metadata": {},
          "execution_count": 10
        }
      ],
      "source": [
        "len(lons[:])"
      ]
    },
    {
      "cell_type": "code",
      "execution_count": 11,
      "metadata": {
        "colab": {
          "base_uri": "https://localhost:8080/"
        },
        "id": "U0elispDOpzS",
        "outputId": "aacc993c-90eb-4e9f-b3c8-479ed2a5f43c"
      },
      "outputs": [
        {
          "output_type": "execute_result",
          "data": {
            "text/plain": [
              "361"
            ]
          },
          "metadata": {},
          "execution_count": 11
        }
      ],
      "source": [
        "speed[1,:,:].shape[0]"
      ]
    },
    {
      "cell_type": "code",
      "execution_count": 12,
      "metadata": {
        "colab": {
          "base_uri": "https://localhost:8080/"
        },
        "id": "rXzYvBgpOpzS",
        "outputId": "89a2691b-3d5c-4fa5-83e3-90785fffba4f"
      },
      "outputs": [
        {
          "output_type": "execute_result",
          "data": {
            "text/plain": [
              "361"
            ]
          },
          "metadata": {},
          "execution_count": 12
        }
      ],
      "source": [
        "len(lats[:])"
      ]
    },
    {
      "cell_type": "code",
      "execution_count": 13,
      "metadata": {
        "colab": {
          "base_uri": "https://localhost:8080/"
        },
        "id": "jXVaAikpOpzT",
        "outputId": "5ec59a23-e0b1-4351-a919-9c7d98d738c1"
      },
      "outputs": [
        {
          "output_type": "stream",
          "name": "stderr",
          "text": [
            "<ipython-input-13-94b13d7bc82d>:1: UserWarning: WARNING: valid_range not used since it\n",
            "cannot be safely cast to variable data type\n",
            "  len(data['time'][:])\n"
          ]
        },
        {
          "output_type": "execute_result",
          "data": {
            "text/plain": [
              "24"
            ]
          },
          "metadata": {},
          "execution_count": 13
        }
      ],
      "source": [
        "len(data['time'][:])"
      ]
    },
    {
      "cell_type": "code",
      "execution_count": 14,
      "metadata": {
        "id": "CqaHOnsQOpzT"
      },
      "outputs": [],
      "source": [
        "# average hourly windspeed  as daily windspeed\n",
        "speed_daily = speed[:].data.mean(axis=0) "
      ]
    },
    {
      "cell_type": "code",
      "execution_count": 15,
      "metadata": {
        "colab": {
          "base_uri": "https://localhost:8080/"
        },
        "id": "WSN5ZKncOpzU",
        "outputId": "23357362-d659-43a5-cc74-4cde9c4ed333"
      },
      "outputs": [
        {
          "output_type": "execute_result",
          "data": {
            "text/plain": [
              "(361, 576)"
            ]
          },
          "metadata": {},
          "execution_count": 15
        }
      ],
      "source": [
        "speed_daily.shape"
      ]
    },
    {
      "cell_type": "code",
      "execution_count": 16,
      "metadata": {
        "colab": {
          "base_uri": "https://localhost:8080/",
          "height": 206
        },
        "id": "rjA3Q-04OpzV",
        "outputId": "021adf00-2689-47c9-c6b0-a9ac42913d4f"
      },
      "outputs": [
        {
          "output_type": "execute_result",
          "data": {
            "text/plain": [
              "       lon   lat    speed\n",
              "0 -180.000 -90.0  4.57525\n",
              "1 -179.375 -90.0  4.57525\n",
              "2 -178.750 -90.0  4.57525\n",
              "3 -178.125 -90.0  4.57525\n",
              "4 -177.500 -90.0  4.57525"
            ],
            "text/html": [
              "\n",
              "  <div id=\"df-456e74f5-0158-480d-ad37-e35a2ed0ecff\">\n",
              "    <div class=\"colab-df-container\">\n",
              "      <div>\n",
              "<style scoped>\n",
              "    .dataframe tbody tr th:only-of-type {\n",
              "        vertical-align: middle;\n",
              "    }\n",
              "\n",
              "    .dataframe tbody tr th {\n",
              "        vertical-align: top;\n",
              "    }\n",
              "\n",
              "    .dataframe thead th {\n",
              "        text-align: right;\n",
              "    }\n",
              "</style>\n",
              "<table border=\"1\" class=\"dataframe\">\n",
              "  <thead>\n",
              "    <tr style=\"text-align: right;\">\n",
              "      <th></th>\n",
              "      <th>lon</th>\n",
              "      <th>lat</th>\n",
              "      <th>speed</th>\n",
              "    </tr>\n",
              "  </thead>\n",
              "  <tbody>\n",
              "    <tr>\n",
              "      <th>0</th>\n",
              "      <td>-180.000</td>\n",
              "      <td>-90.0</td>\n",
              "      <td>4.57525</td>\n",
              "    </tr>\n",
              "    <tr>\n",
              "      <th>1</th>\n",
              "      <td>-179.375</td>\n",
              "      <td>-90.0</td>\n",
              "      <td>4.57525</td>\n",
              "    </tr>\n",
              "    <tr>\n",
              "      <th>2</th>\n",
              "      <td>-178.750</td>\n",
              "      <td>-90.0</td>\n",
              "      <td>4.57525</td>\n",
              "    </tr>\n",
              "    <tr>\n",
              "      <th>3</th>\n",
              "      <td>-178.125</td>\n",
              "      <td>-90.0</td>\n",
              "      <td>4.57525</td>\n",
              "    </tr>\n",
              "    <tr>\n",
              "      <th>4</th>\n",
              "      <td>-177.500</td>\n",
              "      <td>-90.0</td>\n",
              "      <td>4.57525</td>\n",
              "    </tr>\n",
              "  </tbody>\n",
              "</table>\n",
              "</div>\n",
              "      <button class=\"colab-df-convert\" onclick=\"convertToInteractive('df-456e74f5-0158-480d-ad37-e35a2ed0ecff')\"\n",
              "              title=\"Convert this dataframe to an interactive table.\"\n",
              "              style=\"display:none;\">\n",
              "        \n",
              "  <svg xmlns=\"http://www.w3.org/2000/svg\" height=\"24px\"viewBox=\"0 0 24 24\"\n",
              "       width=\"24px\">\n",
              "    <path d=\"M0 0h24v24H0V0z\" fill=\"none\"/>\n",
              "    <path d=\"M18.56 5.44l.94 2.06.94-2.06 2.06-.94-2.06-.94-.94-2.06-.94 2.06-2.06.94zm-11 1L8.5 8.5l.94-2.06 2.06-.94-2.06-.94L8.5 2.5l-.94 2.06-2.06.94zm10 10l.94 2.06.94-2.06 2.06-.94-2.06-.94-.94-2.06-.94 2.06-2.06.94z\"/><path d=\"M17.41 7.96l-1.37-1.37c-.4-.4-.92-.59-1.43-.59-.52 0-1.04.2-1.43.59L10.3 9.45l-7.72 7.72c-.78.78-.78 2.05 0 2.83L4 21.41c.39.39.9.59 1.41.59.51 0 1.02-.2 1.41-.59l7.78-7.78 2.81-2.81c.8-.78.8-2.07 0-2.86zM5.41 20L4 18.59l7.72-7.72 1.47 1.35L5.41 20z\"/>\n",
              "  </svg>\n",
              "      </button>\n",
              "      \n",
              "  <style>\n",
              "    .colab-df-container {\n",
              "      display:flex;\n",
              "      flex-wrap:wrap;\n",
              "      gap: 12px;\n",
              "    }\n",
              "\n",
              "    .colab-df-convert {\n",
              "      background-color: #E8F0FE;\n",
              "      border: none;\n",
              "      border-radius: 50%;\n",
              "      cursor: pointer;\n",
              "      display: none;\n",
              "      fill: #1967D2;\n",
              "      height: 32px;\n",
              "      padding: 0 0 0 0;\n",
              "      width: 32px;\n",
              "    }\n",
              "\n",
              "    .colab-df-convert:hover {\n",
              "      background-color: #E2EBFA;\n",
              "      box-shadow: 0px 1px 2px rgba(60, 64, 67, 0.3), 0px 1px 3px 1px rgba(60, 64, 67, 0.15);\n",
              "      fill: #174EA6;\n",
              "    }\n",
              "\n",
              "    [theme=dark] .colab-df-convert {\n",
              "      background-color: #3B4455;\n",
              "      fill: #D2E3FC;\n",
              "    }\n",
              "\n",
              "    [theme=dark] .colab-df-convert:hover {\n",
              "      background-color: #434B5C;\n",
              "      box-shadow: 0px 1px 3px 1px rgba(0, 0, 0, 0.15);\n",
              "      filter: drop-shadow(0px 1px 2px rgba(0, 0, 0, 0.3));\n",
              "      fill: #FFFFFF;\n",
              "    }\n",
              "  </style>\n",
              "\n",
              "      <script>\n",
              "        const buttonEl =\n",
              "          document.querySelector('#df-456e74f5-0158-480d-ad37-e35a2ed0ecff button.colab-df-convert');\n",
              "        buttonEl.style.display =\n",
              "          google.colab.kernel.accessAllowed ? 'block' : 'none';\n",
              "\n",
              "        async function convertToInteractive(key) {\n",
              "          const element = document.querySelector('#df-456e74f5-0158-480d-ad37-e35a2ed0ecff');\n",
              "          const dataTable =\n",
              "            await google.colab.kernel.invokeFunction('convertToInteractive',\n",
              "                                                     [key], {});\n",
              "          if (!dataTable) return;\n",
              "\n",
              "          const docLinkHtml = 'Like what you see? Visit the ' +\n",
              "            '<a target=\"_blank\" href=https://colab.research.google.com/notebooks/data_table.ipynb>data table notebook</a>'\n",
              "            + ' to learn more about interactive tables.';\n",
              "          element.innerHTML = '';\n",
              "          dataTable['output_type'] = 'display_data';\n",
              "          await google.colab.output.renderOutput(dataTable, element);\n",
              "          const docLink = document.createElement('div');\n",
              "          docLink.innerHTML = docLinkHtml;\n",
              "          element.appendChild(docLink);\n",
              "        }\n",
              "      </script>\n",
              "    </div>\n",
              "  </div>\n",
              "  "
            ]
          },
          "metadata": {},
          "execution_count": 16
        }
      ],
      "source": [
        "#extract wind speed data to dataframe\n",
        "longitude_values = list(lons[:].data)*361\n",
        "latitude_values = np.repeat(lats[:].data, 576)\n",
        "speed_values = speed_daily.flatten()\n",
        "\n",
        "df = pd.DataFrame({\"lon\": longitude_values, \"lat\": latitude_values, \"speed\": speed_values})\n",
        "\n",
        "df.head()\n"
      ]
    },
    {
      "cell_type": "code",
      "execution_count": 17,
      "metadata": {
        "id": "CHNpU9dSOpzV"
      },
      "outputs": [],
      "source": [
        "# import geopy\n",
        "# def get_zipcode(df, geolocator, lat_field, lon_field):\n",
        "#     location = geolocator.reverse((df[lat_field], df[lon_field]))\n",
        "#     return location.raw['address']['postcode']\n",
        "\n",
        "\n",
        "# geolocator = geopy.Nominatim(user_agent=\"http\")\n",
        "\n",
        "\n",
        "# zipcodes = df.apply(get_zipcode, axis=1, geolocator=geolocator, lat_field='lat', lon_field='lon')"
      ]
    },
    {
      "cell_type": "code",
      "execution_count": 18,
      "metadata": {
        "colab": {
          "base_uri": "https://localhost:8080/"
        },
        "id": "uSMFdqYjOpzW",
        "outputId": "f0b7a842-f124-4e40-d843-17aed36ec1c7"
      },
      "outputs": [
        {
          "output_type": "execute_result",
          "data": {
            "text/plain": [
              "0"
            ]
          },
          "metadata": {},
          "execution_count": 18
        }
      ],
      "source": [
        "df.isnull().any().sum()"
      ]
    },
    {
      "cell_type": "code",
      "execution_count": 19,
      "metadata": {
        "colab": {
          "base_uri": "https://localhost:8080/",
          "height": 300
        },
        "id": "lnmkdTlFOpzW",
        "outputId": "ab800f80-6f16-4b10-ba60-6d8dc7cb5cc9"
      },
      "outputs": [
        {
          "output_type": "execute_result",
          "data": {
            "text/plain": [
              "                 lon           lat          speed\n",
              "count  207936.000000  2.079360e+05  207936.000000\n",
              "mean       -0.312500  0.000000e+00       8.007416\n",
              "std       103.923142  5.210579e+01       3.802130\n",
              "min      -180.000000 -9.000000e+01       0.759032\n",
              "25%       -90.156250 -4.500000e+01       5.223871\n",
              "50%        -0.312500 -1.797510e-13       7.427829\n",
              "75%        89.531250  4.500000e+01      10.139867\n",
              "max       179.375000  9.000000e+01      29.306778"
            ],
            "text/html": [
              "\n",
              "  <div id=\"df-207dcb9f-e6f1-4aad-8df5-be431487c3e2\">\n",
              "    <div class=\"colab-df-container\">\n",
              "      <div>\n",
              "<style scoped>\n",
              "    .dataframe tbody tr th:only-of-type {\n",
              "        vertical-align: middle;\n",
              "    }\n",
              "\n",
              "    .dataframe tbody tr th {\n",
              "        vertical-align: top;\n",
              "    }\n",
              "\n",
              "    .dataframe thead th {\n",
              "        text-align: right;\n",
              "    }\n",
              "</style>\n",
              "<table border=\"1\" class=\"dataframe\">\n",
              "  <thead>\n",
              "    <tr style=\"text-align: right;\">\n",
              "      <th></th>\n",
              "      <th>lon</th>\n",
              "      <th>lat</th>\n",
              "      <th>speed</th>\n",
              "    </tr>\n",
              "  </thead>\n",
              "  <tbody>\n",
              "    <tr>\n",
              "      <th>count</th>\n",
              "      <td>207936.000000</td>\n",
              "      <td>2.079360e+05</td>\n",
              "      <td>207936.000000</td>\n",
              "    </tr>\n",
              "    <tr>\n",
              "      <th>mean</th>\n",
              "      <td>-0.312500</td>\n",
              "      <td>0.000000e+00</td>\n",
              "      <td>8.007416</td>\n",
              "    </tr>\n",
              "    <tr>\n",
              "      <th>std</th>\n",
              "      <td>103.923142</td>\n",
              "      <td>5.210579e+01</td>\n",
              "      <td>3.802130</td>\n",
              "    </tr>\n",
              "    <tr>\n",
              "      <th>min</th>\n",
              "      <td>-180.000000</td>\n",
              "      <td>-9.000000e+01</td>\n",
              "      <td>0.759032</td>\n",
              "    </tr>\n",
              "    <tr>\n",
              "      <th>25%</th>\n",
              "      <td>-90.156250</td>\n",
              "      <td>-4.500000e+01</td>\n",
              "      <td>5.223871</td>\n",
              "    </tr>\n",
              "    <tr>\n",
              "      <th>50%</th>\n",
              "      <td>-0.312500</td>\n",
              "      <td>-1.797510e-13</td>\n",
              "      <td>7.427829</td>\n",
              "    </tr>\n",
              "    <tr>\n",
              "      <th>75%</th>\n",
              "      <td>89.531250</td>\n",
              "      <td>4.500000e+01</td>\n",
              "      <td>10.139867</td>\n",
              "    </tr>\n",
              "    <tr>\n",
              "      <th>max</th>\n",
              "      <td>179.375000</td>\n",
              "      <td>9.000000e+01</td>\n",
              "      <td>29.306778</td>\n",
              "    </tr>\n",
              "  </tbody>\n",
              "</table>\n",
              "</div>\n",
              "      <button class=\"colab-df-convert\" onclick=\"convertToInteractive('df-207dcb9f-e6f1-4aad-8df5-be431487c3e2')\"\n",
              "              title=\"Convert this dataframe to an interactive table.\"\n",
              "              style=\"display:none;\">\n",
              "        \n",
              "  <svg xmlns=\"http://www.w3.org/2000/svg\" height=\"24px\"viewBox=\"0 0 24 24\"\n",
              "       width=\"24px\">\n",
              "    <path d=\"M0 0h24v24H0V0z\" fill=\"none\"/>\n",
              "    <path d=\"M18.56 5.44l.94 2.06.94-2.06 2.06-.94-2.06-.94-.94-2.06-.94 2.06-2.06.94zm-11 1L8.5 8.5l.94-2.06 2.06-.94-2.06-.94L8.5 2.5l-.94 2.06-2.06.94zm10 10l.94 2.06.94-2.06 2.06-.94-2.06-.94-.94-2.06-.94 2.06-2.06.94z\"/><path d=\"M17.41 7.96l-1.37-1.37c-.4-.4-.92-.59-1.43-.59-.52 0-1.04.2-1.43.59L10.3 9.45l-7.72 7.72c-.78.78-.78 2.05 0 2.83L4 21.41c.39.39.9.59 1.41.59.51 0 1.02-.2 1.41-.59l7.78-7.78 2.81-2.81c.8-.78.8-2.07 0-2.86zM5.41 20L4 18.59l7.72-7.72 1.47 1.35L5.41 20z\"/>\n",
              "  </svg>\n",
              "      </button>\n",
              "      \n",
              "  <style>\n",
              "    .colab-df-container {\n",
              "      display:flex;\n",
              "      flex-wrap:wrap;\n",
              "      gap: 12px;\n",
              "    }\n",
              "\n",
              "    .colab-df-convert {\n",
              "      background-color: #E8F0FE;\n",
              "      border: none;\n",
              "      border-radius: 50%;\n",
              "      cursor: pointer;\n",
              "      display: none;\n",
              "      fill: #1967D2;\n",
              "      height: 32px;\n",
              "      padding: 0 0 0 0;\n",
              "      width: 32px;\n",
              "    }\n",
              "\n",
              "    .colab-df-convert:hover {\n",
              "      background-color: #E2EBFA;\n",
              "      box-shadow: 0px 1px 2px rgba(60, 64, 67, 0.3), 0px 1px 3px 1px rgba(60, 64, 67, 0.15);\n",
              "      fill: #174EA6;\n",
              "    }\n",
              "\n",
              "    [theme=dark] .colab-df-convert {\n",
              "      background-color: #3B4455;\n",
              "      fill: #D2E3FC;\n",
              "    }\n",
              "\n",
              "    [theme=dark] .colab-df-convert:hover {\n",
              "      background-color: #434B5C;\n",
              "      box-shadow: 0px 1px 3px 1px rgba(0, 0, 0, 0.15);\n",
              "      filter: drop-shadow(0px 1px 2px rgba(0, 0, 0, 0.3));\n",
              "      fill: #FFFFFF;\n",
              "    }\n",
              "  </style>\n",
              "\n",
              "      <script>\n",
              "        const buttonEl =\n",
              "          document.querySelector('#df-207dcb9f-e6f1-4aad-8df5-be431487c3e2 button.colab-df-convert');\n",
              "        buttonEl.style.display =\n",
              "          google.colab.kernel.accessAllowed ? 'block' : 'none';\n",
              "\n",
              "        async function convertToInteractive(key) {\n",
              "          const element = document.querySelector('#df-207dcb9f-e6f1-4aad-8df5-be431487c3e2');\n",
              "          const dataTable =\n",
              "            await google.colab.kernel.invokeFunction('convertToInteractive',\n",
              "                                                     [key], {});\n",
              "          if (!dataTable) return;\n",
              "\n",
              "          const docLinkHtml = 'Like what you see? Visit the ' +\n",
              "            '<a target=\"_blank\" href=https://colab.research.google.com/notebooks/data_table.ipynb>data table notebook</a>'\n",
              "            + ' to learn more about interactive tables.';\n",
              "          element.innerHTML = '';\n",
              "          dataTable['output_type'] = 'display_data';\n",
              "          await google.colab.output.renderOutput(dataTable, element);\n",
              "          const docLink = document.createElement('div');\n",
              "          docLink.innerHTML = docLinkHtml;\n",
              "          element.appendChild(docLink);\n",
              "        }\n",
              "      </script>\n",
              "    </div>\n",
              "  </div>\n",
              "  "
            ]
          },
          "metadata": {},
          "execution_count": 19
        }
      ],
      "source": [
        "df.describe()"
      ]
    },
    {
      "cell_type": "code",
      "execution_count": 20,
      "metadata": {
        "colab": {
          "base_uri": "https://localhost:8080/"
        },
        "id": "2O4QruY8OpzW",
        "outputId": "885f294d-a7b2-48d2-8309-bd07590c523f"
      },
      "outputs": [
        {
          "output_type": "execute_result",
          "data": {
            "text/plain": [
              "[-180.0,\n",
              " -179.375,\n",
              " -178.75,\n",
              " -178.125,\n",
              " -177.5,\n",
              " -176.875,\n",
              " -176.25,\n",
              " -175.625,\n",
              " -175.0,\n",
              " -174.375,\n",
              " -173.75,\n",
              " -173.125,\n",
              " -172.5,\n",
              " -171.875,\n",
              " -171.25,\n",
              " -170.625,\n",
              " -170.0,\n",
              " -169.375,\n",
              " -168.75,\n",
              " -168.125,\n",
              " -167.5,\n",
              " -166.875,\n",
              " -166.25,\n",
              " -165.625,\n",
              " -165.0,\n",
              " -164.375,\n",
              " -163.75,\n",
              " -163.125,\n",
              " -162.5,\n",
              " -161.875,\n",
              " -161.25,\n",
              " -160.625,\n",
              " -160.0,\n",
              " -159.375,\n",
              " -158.75,\n",
              " -158.125,\n",
              " -157.5,\n",
              " -156.875,\n",
              " -156.25,\n",
              " -155.625,\n",
              " -155.0,\n",
              " -154.375,\n",
              " -153.75,\n",
              " -153.125,\n",
              " -152.5,\n",
              " -151.875,\n",
              " -151.25,\n",
              " -150.625,\n",
              " -150.0,\n",
              " -149.375,\n",
              " -148.75,\n",
              " -148.125,\n",
              " -147.5,\n",
              " -146.875,\n",
              " -146.25,\n",
              " -145.625,\n",
              " -145.0,\n",
              " -144.375,\n",
              " -143.75,\n",
              " -143.125,\n",
              " -142.5,\n",
              " -141.875,\n",
              " -141.25,\n",
              " -140.625,\n",
              " -140.0,\n",
              " -139.375,\n",
              " -138.75,\n",
              " -138.125,\n",
              " -137.5,\n",
              " -136.875,\n",
              " -136.25,\n",
              " -135.625,\n",
              " -135.0,\n",
              " -134.375,\n",
              " -133.75,\n",
              " -133.125,\n",
              " -132.5,\n",
              " -131.875,\n",
              " -131.25,\n",
              " -130.625,\n",
              " -130.0,\n",
              " -129.375,\n",
              " -128.75,\n",
              " -128.125,\n",
              " -127.5,\n",
              " -126.875,\n",
              " -126.25,\n",
              " -125.625,\n",
              " -125.0,\n",
              " -124.375,\n",
              " -123.75,\n",
              " -123.125,\n",
              " -122.5,\n",
              " -121.875,\n",
              " -121.25,\n",
              " -120.625,\n",
              " -120.0,\n",
              " -119.375,\n",
              " -118.75,\n",
              " -118.125,\n",
              " -117.5,\n",
              " -116.875,\n",
              " -116.25,\n",
              " -115.625,\n",
              " -115.0,\n",
              " -114.375,\n",
              " -113.75,\n",
              " -113.125,\n",
              " -112.5,\n",
              " -111.875,\n",
              " -111.25,\n",
              " -110.625,\n",
              " -110.0,\n",
              " -109.375,\n",
              " -108.75,\n",
              " -108.125,\n",
              " -107.5,\n",
              " -106.875,\n",
              " -106.25,\n",
              " -105.625,\n",
              " -105.0,\n",
              " -104.375,\n",
              " -103.75,\n",
              " -103.125,\n",
              " -102.5,\n",
              " -101.875,\n",
              " -101.25,\n",
              " -100.625,\n",
              " -100.0,\n",
              " -99.375,\n",
              " -98.75,\n",
              " -98.125,\n",
              " -97.5,\n",
              " -96.875,\n",
              " -96.25,\n",
              " -95.625,\n",
              " -95.0,\n",
              " -94.375,\n",
              " -93.75,\n",
              " -93.125,\n",
              " -92.5,\n",
              " -91.875,\n",
              " -91.25,\n",
              " -90.625,\n",
              " -90.0,\n",
              " -89.375,\n",
              " -88.75,\n",
              " -88.125,\n",
              " -87.5,\n",
              " -86.875,\n",
              " -86.25,\n",
              " -85.625,\n",
              " -85.0,\n",
              " -84.375,\n",
              " -83.75,\n",
              " -83.125,\n",
              " -82.5,\n",
              " -81.875,\n",
              " -81.25,\n",
              " -80.625,\n",
              " -80.0,\n",
              " -79.375,\n",
              " -78.75,\n",
              " -78.125,\n",
              " -77.5,\n",
              " -76.875,\n",
              " -76.25,\n",
              " -75.625,\n",
              " -75.0,\n",
              " -74.375,\n",
              " -73.75,\n",
              " -73.125,\n",
              " -72.5,\n",
              " -71.875,\n",
              " -71.25,\n",
              " -70.625,\n",
              " -70.0,\n",
              " -69.375,\n",
              " -68.75,\n",
              " -68.125,\n",
              " -67.5,\n",
              " -66.875,\n",
              " -66.25,\n",
              " -65.625,\n",
              " -65.0,\n",
              " -64.375,\n",
              " -63.75,\n",
              " -63.125,\n",
              " -62.5,\n",
              " -61.875,\n",
              " -61.25,\n",
              " -60.625,\n",
              " -60.0,\n",
              " -59.375,\n",
              " -58.75,\n",
              " -58.125,\n",
              " -57.5,\n",
              " -56.875,\n",
              " -56.25,\n",
              " -55.625,\n",
              " -55.0,\n",
              " -54.375,\n",
              " -53.75,\n",
              " -53.125,\n",
              " -52.5,\n",
              " -51.875,\n",
              " -51.25,\n",
              " -50.625,\n",
              " -50.0,\n",
              " -49.375,\n",
              " -48.75,\n",
              " -48.125,\n",
              " -47.5,\n",
              " -46.875,\n",
              " -46.25,\n",
              " -45.625,\n",
              " -45.0,\n",
              " -44.375,\n",
              " -43.75,\n",
              " -43.125,\n",
              " -42.5,\n",
              " -41.875,\n",
              " -41.25,\n",
              " -40.625,\n",
              " -40.0,\n",
              " -39.375,\n",
              " -38.75,\n",
              " -38.125,\n",
              " -37.5,\n",
              " -36.875,\n",
              " -36.25,\n",
              " -35.625,\n",
              " -35.0,\n",
              " -34.375,\n",
              " -33.75,\n",
              " -33.125,\n",
              " -32.5,\n",
              " -31.875,\n",
              " -31.25,\n",
              " -30.625,\n",
              " -30.0,\n",
              " -29.375,\n",
              " -28.75,\n",
              " -28.125,\n",
              " -27.5,\n",
              " -26.875,\n",
              " -26.25,\n",
              " -25.625,\n",
              " -25.0,\n",
              " -24.375,\n",
              " -23.75,\n",
              " -23.125,\n",
              " -22.5,\n",
              " -21.875,\n",
              " -21.25,\n",
              " -20.625,\n",
              " -20.0,\n",
              " -19.375,\n",
              " -18.75,\n",
              " -18.125,\n",
              " -17.5,\n",
              " -16.875,\n",
              " -16.25,\n",
              " -15.625,\n",
              " -15.0,\n",
              " -14.375,\n",
              " -13.75,\n",
              " -13.125,\n",
              " -12.5,\n",
              " -11.875,\n",
              " -11.25,\n",
              " -10.625,\n",
              " -10.0,\n",
              " -9.375,\n",
              " -8.75,\n",
              " -8.125,\n",
              " -7.5,\n",
              " -6.875,\n",
              " -6.25,\n",
              " -5.625,\n",
              " -5.0,\n",
              " -4.375,\n",
              " -3.75,\n",
              " -3.125,\n",
              " -2.5,\n",
              " -1.875,\n",
              " -1.25,\n",
              " -0.625,\n",
              " -5.920304394294029e-13,\n",
              " 0.625,\n",
              " 1.25,\n",
              " 1.875,\n",
              " 2.5,\n",
              " 3.125,\n",
              " 3.75,\n",
              " 4.375,\n",
              " 5.0,\n",
              " 5.625,\n",
              " 6.25,\n",
              " 6.875,\n",
              " 7.5,\n",
              " 8.125,\n",
              " 8.75,\n",
              " 9.375,\n",
              " 10.0,\n",
              " 10.625,\n",
              " 11.25,\n",
              " 11.875,\n",
              " 12.5,\n",
              " 13.125,\n",
              " 13.75,\n",
              " 14.375,\n",
              " 15.0,\n",
              " 15.625,\n",
              " 16.25,\n",
              " 16.875,\n",
              " 17.5,\n",
              " 18.125,\n",
              " 18.75,\n",
              " 19.375,\n",
              " 20.0,\n",
              " 20.625,\n",
              " 21.25,\n",
              " 21.875,\n",
              " 22.5,\n",
              " 23.125,\n",
              " 23.75,\n",
              " 24.375,\n",
              " 25.0,\n",
              " 25.625,\n",
              " 26.25,\n",
              " 26.875,\n",
              " 27.5,\n",
              " 28.125,\n",
              " 28.75,\n",
              " 29.375,\n",
              " 30.0,\n",
              " 30.625,\n",
              " 31.25,\n",
              " 31.875,\n",
              " 32.5,\n",
              " 33.125,\n",
              " 33.75,\n",
              " 34.375,\n",
              " 35.0,\n",
              " 35.625,\n",
              " 36.25,\n",
              " 36.875,\n",
              " 37.5,\n",
              " 38.125,\n",
              " 38.75,\n",
              " 39.375,\n",
              " 40.0,\n",
              " 40.625,\n",
              " 41.25,\n",
              " 41.875,\n",
              " 42.5,\n",
              " 43.125,\n",
              " 43.75,\n",
              " 44.375,\n",
              " 45.0,\n",
              " 45.625,\n",
              " 46.25,\n",
              " 46.875,\n",
              " 47.5,\n",
              " 48.125,\n",
              " 48.75,\n",
              " 49.375,\n",
              " 50.0,\n",
              " 50.625,\n",
              " 51.25,\n",
              " 51.875,\n",
              " 52.5,\n",
              " 53.125,\n",
              " 53.75,\n",
              " 54.375,\n",
              " 55.0,\n",
              " 55.625,\n",
              " 56.25,\n",
              " 56.875,\n",
              " 57.5,\n",
              " 58.125,\n",
              " 58.75,\n",
              " 59.375,\n",
              " 60.0,\n",
              " 60.625,\n",
              " 61.25,\n",
              " 61.875,\n",
              " 62.5,\n",
              " 63.125,\n",
              " 63.75,\n",
              " 64.375,\n",
              " 65.0,\n",
              " 65.625,\n",
              " 66.25,\n",
              " 66.875,\n",
              " 67.5,\n",
              " 68.125,\n",
              " 68.75,\n",
              " 69.375,\n",
              " 70.0,\n",
              " 70.625,\n",
              " 71.25,\n",
              " 71.875,\n",
              " 72.5,\n",
              " 73.125,\n",
              " 73.75,\n",
              " 74.375,\n",
              " 75.0,\n",
              " 75.625,\n",
              " 76.25,\n",
              " 76.875,\n",
              " 77.5,\n",
              " 78.125,\n",
              " 78.75,\n",
              " 79.375,\n",
              " 80.0,\n",
              " 80.625,\n",
              " 81.25,\n",
              " 81.875,\n",
              " 82.5,\n",
              " 83.125,\n",
              " 83.75,\n",
              " 84.375,\n",
              " 85.0,\n",
              " 85.625,\n",
              " 86.25,\n",
              " 86.875,\n",
              " 87.5,\n",
              " 88.125,\n",
              " 88.75,\n",
              " 89.375,\n",
              " 90.0,\n",
              " 90.625,\n",
              " 91.25,\n",
              " 91.875,\n",
              " 92.5,\n",
              " 93.125,\n",
              " 93.75,\n",
              " 94.375,\n",
              " 95.0,\n",
              " 95.625,\n",
              " 96.25,\n",
              " 96.875,\n",
              " 97.5,\n",
              " 98.125,\n",
              " 98.75,\n",
              " 99.375,\n",
              " 100.0,\n",
              " 100.625,\n",
              " 101.25,\n",
              " 101.875,\n",
              " 102.5,\n",
              " 103.125,\n",
              " 103.75,\n",
              " 104.375,\n",
              " 105.0,\n",
              " 105.625,\n",
              " 106.25,\n",
              " 106.875,\n",
              " 107.5,\n",
              " 108.125,\n",
              " 108.75,\n",
              " 109.375,\n",
              " 110.0,\n",
              " 110.625,\n",
              " 111.25,\n",
              " 111.875,\n",
              " 112.5,\n",
              " 113.125,\n",
              " 113.75,\n",
              " 114.375,\n",
              " 115.0,\n",
              " 115.625,\n",
              " 116.25,\n",
              " 116.875,\n",
              " 117.5,\n",
              " 118.125,\n",
              " 118.75,\n",
              " 119.375,\n",
              " 120.0,\n",
              " 120.625,\n",
              " 121.25,\n",
              " 121.875,\n",
              " 122.5,\n",
              " 123.125,\n",
              " 123.75,\n",
              " 124.375,\n",
              " 125.0,\n",
              " 125.625,\n",
              " 126.25,\n",
              " 126.875,\n",
              " 127.5,\n",
              " 128.125,\n",
              " 128.75,\n",
              " 129.375,\n",
              " 130.0,\n",
              " 130.625,\n",
              " 131.25,\n",
              " 131.875,\n",
              " 132.5,\n",
              " 133.125,\n",
              " 133.75,\n",
              " 134.375,\n",
              " 135.0,\n",
              " 135.625,\n",
              " 136.25,\n",
              " 136.875,\n",
              " 137.5,\n",
              " 138.125,\n",
              " 138.75,\n",
              " 139.375,\n",
              " 140.0,\n",
              " 140.625,\n",
              " 141.25,\n",
              " 141.875,\n",
              " 142.5,\n",
              " 143.125,\n",
              " 143.75,\n",
              " 144.375,\n",
              " 145.0,\n",
              " 145.625,\n",
              " 146.25,\n",
              " 146.875,\n",
              " 147.5,\n",
              " 148.125,\n",
              " 148.75,\n",
              " 149.375,\n",
              " 150.0,\n",
              " 150.625,\n",
              " 151.25,\n",
              " 151.875,\n",
              " 152.5,\n",
              " 153.125,\n",
              " 153.75,\n",
              " 154.375,\n",
              " 155.0,\n",
              " 155.625,\n",
              " 156.25,\n",
              " 156.875,\n",
              " 157.5,\n",
              " 158.125,\n",
              " 158.75,\n",
              " 159.375,\n",
              " 160.0,\n",
              " 160.625,\n",
              " 161.25,\n",
              " 161.875,\n",
              " 162.5,\n",
              " 163.125,\n",
              " 163.75,\n",
              " 164.375,\n",
              " 165.0,\n",
              " 165.625,\n",
              " 166.25,\n",
              " 166.875,\n",
              " 167.5,\n",
              " 168.125,\n",
              " 168.75,\n",
              " 169.375,\n",
              " 170.0,\n",
              " 170.625,\n",
              " 171.25,\n",
              " 171.875,\n",
              " 172.5,\n",
              " 173.125,\n",
              " 173.75,\n",
              " 174.375,\n",
              " 175.0,\n",
              " 175.625,\n",
              " 176.25,\n",
              " 176.875,\n",
              " 177.5,\n",
              " 178.125,\n",
              " 178.75,\n",
              " 179.375,\n",
              " -180.0,\n",
              " -179.375,\n",
              " -178.75,\n",
              " -178.125,\n",
              " -177.5,\n",
              " -176.875,\n",
              " -176.25,\n",
              " -175.625,\n",
              " -175.0,\n",
              " -174.375,\n",
              " -173.75,\n",
              " -173.125,\n",
              " -172.5,\n",
              " -171.875,\n",
              " -171.25,\n",
              " -170.625,\n",
              " -170.0,\n",
              " -169.375,\n",
              " -168.75,\n",
              " -168.125,\n",
              " -167.5,\n",
              " -166.875,\n",
              " -166.25,\n",
              " -165.625,\n",
              " -165.0,\n",
              " -164.375,\n",
              " -163.75,\n",
              " -163.125,\n",
              " -162.5,\n",
              " -161.875,\n",
              " -161.25,\n",
              " -160.625,\n",
              " -160.0,\n",
              " -159.375,\n",
              " -158.75,\n",
              " -158.125,\n",
              " -157.5,\n",
              " -156.875,\n",
              " -156.25,\n",
              " -155.625,\n",
              " -155.0,\n",
              " -154.375,\n",
              " -153.75,\n",
              " -153.125,\n",
              " -152.5,\n",
              " -151.875,\n",
              " -151.25,\n",
              " -150.625,\n",
              " -150.0,\n",
              " -149.375,\n",
              " -148.75,\n",
              " -148.125,\n",
              " -147.5,\n",
              " -146.875,\n",
              " -146.25,\n",
              " -145.625,\n",
              " -145.0,\n",
              " -144.375,\n",
              " -143.75,\n",
              " -143.125,\n",
              " -142.5,\n",
              " -141.875,\n",
              " -141.25,\n",
              " -140.625,\n",
              " -140.0,\n",
              " -139.375,\n",
              " -138.75,\n",
              " -138.125,\n",
              " -137.5,\n",
              " -136.875,\n",
              " -136.25,\n",
              " -135.625,\n",
              " -135.0,\n",
              " -134.375,\n",
              " -133.75,\n",
              " -133.125,\n",
              " -132.5,\n",
              " -131.875,\n",
              " -131.25,\n",
              " -130.625,\n",
              " -130.0,\n",
              " -129.375,\n",
              " -128.75,\n",
              " -128.125,\n",
              " -127.5,\n",
              " -126.875,\n",
              " -126.25,\n",
              " -125.625,\n",
              " -125.0,\n",
              " -124.375,\n",
              " -123.75,\n",
              " -123.125,\n",
              " -122.5,\n",
              " -121.875,\n",
              " -121.25,\n",
              " -120.625,\n",
              " -120.0,\n",
              " -119.375,\n",
              " -118.75,\n",
              " -118.125,\n",
              " -117.5,\n",
              " -116.875,\n",
              " -116.25,\n",
              " -115.625,\n",
              " -115.0,\n",
              " -114.375,\n",
              " -113.75,\n",
              " -113.125,\n",
              " -112.5,\n",
              " -111.875,\n",
              " -111.25,\n",
              " -110.625,\n",
              " -110.0,\n",
              " -109.375,\n",
              " -108.75,\n",
              " -108.125,\n",
              " -107.5,\n",
              " -106.875,\n",
              " -106.25,\n",
              " -105.625,\n",
              " -105.0,\n",
              " -104.375,\n",
              " -103.75,\n",
              " -103.125,\n",
              " -102.5,\n",
              " -101.875,\n",
              " -101.25,\n",
              " -100.625,\n",
              " -100.0,\n",
              " -99.375,\n",
              " -98.75,\n",
              " -98.125,\n",
              " -97.5,\n",
              " -96.875,\n",
              " -96.25,\n",
              " -95.625,\n",
              " -95.0,\n",
              " -94.375,\n",
              " -93.75,\n",
              " -93.125,\n",
              " -92.5,\n",
              " -91.875,\n",
              " -91.25,\n",
              " -90.625,\n",
              " -90.0,\n",
              " -89.375,\n",
              " -88.75,\n",
              " -88.125,\n",
              " -87.5,\n",
              " -86.875,\n",
              " -86.25,\n",
              " -85.625,\n",
              " -85.0,\n",
              " -84.375,\n",
              " -83.75,\n",
              " -83.125,\n",
              " -82.5,\n",
              " -81.875,\n",
              " -81.25,\n",
              " -80.625,\n",
              " -80.0,\n",
              " -79.375,\n",
              " -78.75,\n",
              " -78.125,\n",
              " -77.5,\n",
              " -76.875,\n",
              " -76.25,\n",
              " -75.625,\n",
              " -75.0,\n",
              " -74.375,\n",
              " -73.75,\n",
              " -73.125,\n",
              " -72.5,\n",
              " -71.875,\n",
              " -71.25,\n",
              " -70.625,\n",
              " -70.0,\n",
              " -69.375,\n",
              " -68.75,\n",
              " -68.125,\n",
              " -67.5,\n",
              " -66.875,\n",
              " -66.25,\n",
              " -65.625,\n",
              " -65.0,\n",
              " -64.375,\n",
              " -63.75,\n",
              " -63.125,\n",
              " -62.5,\n",
              " -61.875,\n",
              " -61.25,\n",
              " -60.625,\n",
              " -60.0,\n",
              " -59.375,\n",
              " -58.75,\n",
              " -58.125,\n",
              " -57.5,\n",
              " -56.875,\n",
              " -56.25,\n",
              " -55.625,\n",
              " -55.0,\n",
              " -54.375,\n",
              " -53.75,\n",
              " -53.125,\n",
              " -52.5,\n",
              " -51.875,\n",
              " -51.25,\n",
              " -50.625,\n",
              " -50.0,\n",
              " -49.375,\n",
              " -48.75,\n",
              " -48.125,\n",
              " -47.5,\n",
              " -46.875,\n",
              " -46.25,\n",
              " -45.625,\n",
              " -45.0,\n",
              " -44.375,\n",
              " -43.75,\n",
              " -43.125,\n",
              " -42.5,\n",
              " -41.875,\n",
              " -41.25,\n",
              " -40.625,\n",
              " -40.0,\n",
              " -39.375,\n",
              " -38.75,\n",
              " -38.125,\n",
              " -37.5,\n",
              " -36.875,\n",
              " -36.25,\n",
              " -35.625,\n",
              " -35.0,\n",
              " -34.375,\n",
              " -33.75,\n",
              " -33.125,\n",
              " -32.5,\n",
              " -31.875,\n",
              " -31.25,\n",
              " -30.625,\n",
              " -30.0,\n",
              " -29.375,\n",
              " -28.75,\n",
              " -28.125,\n",
              " -27.5,\n",
              " -26.875,\n",
              " -26.25,\n",
              " -25.625,\n",
              " -25.0,\n",
              " -24.375,\n",
              " -23.75,\n",
              " -23.125,\n",
              " -22.5,\n",
              " -21.875,\n",
              " -21.25,\n",
              " -20.625,\n",
              " -20.0,\n",
              " -19.375,\n",
              " -18.75,\n",
              " -18.125,\n",
              " -17.5,\n",
              " -16.875,\n",
              " -16.25,\n",
              " -15.625,\n",
              " -15.0,\n",
              " -14.375,\n",
              " -13.75,\n",
              " -13.125,\n",
              " -12.5,\n",
              " -11.875,\n",
              " -11.25,\n",
              " -10.625,\n",
              " -10.0,\n",
              " -9.375,\n",
              " -8.75,\n",
              " -8.125,\n",
              " -7.5,\n",
              " -6.875,\n",
              " -6.25,\n",
              " -5.625,\n",
              " -5.0,\n",
              " -4.375,\n",
              " -3.75,\n",
              " -3.125,\n",
              " -2.5,\n",
              " -1.875,\n",
              " -1.25,\n",
              " -0.625,\n",
              " -5.920304394294029e-13,\n",
              " 0.625,\n",
              " 1.25,\n",
              " 1.875,\n",
              " 2.5,\n",
              " 3.125,\n",
              " 3.75,\n",
              " 4.375,\n",
              " 5.0,\n",
              " 5.625,\n",
              " 6.25,\n",
              " 6.875,\n",
              " 7.5,\n",
              " 8.125,\n",
              " 8.75,\n",
              " 9.375,\n",
              " 10.0,\n",
              " 10.625,\n",
              " 11.25,\n",
              " 11.875,\n",
              " 12.5,\n",
              " 13.125,\n",
              " 13.75,\n",
              " 14.375,\n",
              " 15.0,\n",
              " 15.625,\n",
              " 16.25,\n",
              " 16.875,\n",
              " 17.5,\n",
              " 18.125,\n",
              " 18.75,\n",
              " 19.375,\n",
              " 20.0,\n",
              " 20.625,\n",
              " 21.25,\n",
              " 21.875,\n",
              " 22.5,\n",
              " 23.125,\n",
              " 23.75,\n",
              " 24.375,\n",
              " 25.0,\n",
              " 25.625,\n",
              " 26.25,\n",
              " 26.875,\n",
              " 27.5,\n",
              " 28.125,\n",
              " 28.75,\n",
              " 29.375,\n",
              " 30.0,\n",
              " 30.625,\n",
              " 31.25,\n",
              " 31.875,\n",
              " 32.5,\n",
              " 33.125,\n",
              " 33.75,\n",
              " 34.375,\n",
              " 35.0,\n",
              " 35.625,\n",
              " 36.25,\n",
              " 36.875,\n",
              " 37.5,\n",
              " 38.125,\n",
              " 38.75,\n",
              " 39.375,\n",
              " 40.0,\n",
              " 40.625,\n",
              " 41.25,\n",
              " 41.875,\n",
              " 42.5,\n",
              " 43.125,\n",
              " 43.75,\n",
              " 44.375,\n",
              " 45.0,\n",
              " 45.625,\n",
              " 46.25,\n",
              " 46.875,\n",
              " 47.5,\n",
              " 48.125,\n",
              " 48.75,\n",
              " 49.375,\n",
              " 50.0,\n",
              " 50.625,\n",
              " 51.25,\n",
              " 51.875,\n",
              " 52.5,\n",
              " 53.125,\n",
              " 53.75,\n",
              " 54.375,\n",
              " 55.0,\n",
              " 55.625,\n",
              " 56.25,\n",
              " 56.875,\n",
              " 57.5,\n",
              " 58.125,\n",
              " 58.75,\n",
              " 59.375,\n",
              " 60.0,\n",
              " 60.625,\n",
              " 61.25,\n",
              " 61.875,\n",
              " 62.5,\n",
              " 63.125,\n",
              " 63.75,\n",
              " 64.375,\n",
              " 65.0,\n",
              " 65.625,\n",
              " 66.25,\n",
              " 66.875,\n",
              " 67.5,\n",
              " 68.125,\n",
              " 68.75,\n",
              " 69.375,\n",
              " 70.0,\n",
              " 70.625,\n",
              " 71.25,\n",
              " 71.875,\n",
              " 72.5,\n",
              " 73.125,\n",
              " 73.75,\n",
              " 74.375,\n",
              " 75.0,\n",
              " 75.625,\n",
              " 76.25,\n",
              " 76.875,\n",
              " 77.5,\n",
              " 78.125,\n",
              " 78.75,\n",
              " 79.375,\n",
              " 80.0,\n",
              " 80.625,\n",
              " 81.25,\n",
              " 81.875,\n",
              " 82.5,\n",
              " 83.125,\n",
              " 83.75,\n",
              " 84.375,\n",
              " ...]"
            ]
          },
          "metadata": {},
          "execution_count": 20
        }
      ],
      "source": [
        "longitude_values"
      ]
    },
    {
      "cell_type": "code",
      "execution_count": 21,
      "metadata": {
        "colab": {
          "base_uri": "https://localhost:8080/"
        },
        "id": "CRIH4aL9OpzX",
        "outputId": "df95b258-c072-4f3d-fed5-89dd86947497"
      },
      "outputs": [
        {
          "output_type": "execute_result",
          "data": {
            "text/plain": [
              "207936"
            ]
          },
          "metadata": {},
          "execution_count": 21
        }
      ],
      "source": [
        "len(speed_values)"
      ]
    },
    {
      "cell_type": "code",
      "execution_count": 22,
      "metadata": {
        "colab": {
          "base_uri": "https://localhost:8080/"
        },
        "id": "McidT4E0OpzX",
        "outputId": "95a2d5fc-d68e-44d6-c164-ab165478247f"
      },
      "outputs": [
        {
          "output_type": "execute_result",
          "data": {
            "text/plain": [
              "207936"
            ]
          },
          "metadata": {},
          "execution_count": 22
        }
      ],
      "source": [
        "len(longitude_values)"
      ]
    },
    {
      "cell_type": "code",
      "execution_count": 23,
      "metadata": {
        "colab": {
          "base_uri": "https://localhost:8080/"
        },
        "id": "Yqca-qiCOpzX",
        "outputId": "87351c7f-ef7b-4cad-d2be-6eca522601f6"
      },
      "outputs": [
        {
          "output_type": "execute_result",
          "data": {
            "text/plain": [
              "207936"
            ]
          },
          "metadata": {},
          "execution_count": 23
        }
      ],
      "source": [
        "len(latitude_values)"
      ]
    },
    {
      "cell_type": "code",
      "execution_count": 24,
      "metadata": {
        "colab": {
          "base_uri": "https://localhost:8080/"
        },
        "id": "Fi_VNcpqOpzX",
        "outputId": "c053a548-c228-45d7-e6c0-1789a5db99d7"
      },
      "outputs": [
        {
          "output_type": "execute_result",
          "data": {
            "text/plain": [
              "576"
            ]
          },
          "metadata": {},
          "execution_count": 24
        }
      ],
      "source": [
        "len(speed[1,1,:].data)"
      ]
    },
    {
      "cell_type": "code",
      "execution_count": 25,
      "metadata": {
        "colab": {
          "base_uri": "https://localhost:8080/"
        },
        "id": "UQLuiis8OpzY",
        "outputId": "0c15e721-e340-4655-cc60-89e33aac3acc"
      },
      "outputs": [
        {
          "output_type": "stream",
          "name": "stderr",
          "text": [
            "/usr/local/lib/python3.8/dist-packages/IPython/core/interactiveshell.py:3326: DtypeWarning: Columns (3,4,5,6,8,9,10,13,14,17,18,19,20,21,22,23,24,25,34,35,41,42) have mixed types.Specify dtype option on import or set low_memory=False.\n",
            "  exec(code_obj, self.user_global_ns, self.user_ns)\n"
          ]
        }
      ],
      "source": [
        "df2 = pd.read_csv('/content/drive/MyDrive/Data Science/Power_Plants.csv')"
      ]
    },
    {
      "cell_type": "code",
      "execution_count": 26,
      "metadata": {
        "colab": {
          "base_uri": "https://localhost:8080/",
          "height": 560
        },
        "id": "OA6vF9tEOpzY",
        "outputId": "b039b763-8acb-4fa9-e4f7-9c1ff2a1083e"
      },
      "outputs": [
        {
          "output_type": "execute_result",
          "data": {
            "text/plain": [
              "              X             Y  OBJECTID PLANT_CODE       NAME  \\\n",
              "0 -1.361831e+07  5.157821e+06       188        294    COPCO 1   \n",
              "1 -1.362084e+07  5.157343e+06       189        295    COPCO 2   \n",
              "2 -1.362960e+07  5.150946e+06       191        297  IRON GATE   \n",
              "3 -1.256280e+07  4.648705e+06       193        299   BLUNDELL   \n",
              "4 -1.241182e+07  5.477623e+06       548        825     ASHTON   \n",
              "\n",
              "                     ADDRESS       CITY STATE    ZIP      TELEPHONE  ...  \\\n",
              "0  COPCO RD 20 MI EAST OF I5  HORNBROOK    CA  96044  NOT AVAILABLE  ...   \n",
              "1         19305 DAGGETT ROAD  HORNBROOK    CA  96044  NOT AVAILABLE  ...   \n",
              "2   COPCO RD 9 MI EAST OF I5  HORNBROOK    CA  96044  NOT AVAILABLE  ...   \n",
              "3  10 MI EAST OF HIGHWAY 257    MILFORD    UT  84751  NOT AVAILABLE  ...   \n",
              "4              1338 N 3300 E     ASHTON    ID  83420  NOT AVAILABLE  ...   \n",
              "\n",
              "           SUB_1          SUB_2 LINES SOURCE_LAT  SOURC_LONG  \\\n",
              "0  NOT AVAILABLE  NOT AVAILABLE   0.0  41.978914 -122.335317   \n",
              "1        COPCO 2  NOT AVAILABLE   0.0  41.975716 -122.358127   \n",
              "2  NOT AVAILABLE  NOT AVAILABLE   0.0  41.932981 -122.436780   \n",
              "3       BLUNDELL  NOT AVAILABLE   1.0  38.488771 -112.853591   \n",
              "4  UNKNOWN204720  NOT AVAILABLE   1.0  44.078656 -111.497266   \n",
              "\n",
              "                                 GlobalID            CreationDate  \\\n",
              "0  {FD7408A0-3F2E-4D4A-84D4-D06C22002E1B}  2021/12/29 05:49:30+00   \n",
              "1  {491F1438-9905-40C3-8561-741E4CD78C37}  2021/12/29 05:49:30+00   \n",
              "2  {5B9E0FBC-43FB-460D-8187-FD55042EB501}  2021/12/29 05:49:30+00   \n",
              "3  {5FF77F2B-41AD-478A-9FF3-37D04737CE25}  2021/12/29 05:49:30+00   \n",
              "4  {DF869347-58EA-4E2F-8C0F-89ACE845E63F}  2021/12/29 05:49:30+00   \n",
              "\n",
              "         Creator                EditDate         Editor  \n",
              "0  HostedByHIFLD  2021/12/29 05:49:30+00  HostedByHIFLD  \n",
              "1  HostedByHIFLD  2021/12/29 05:49:30+00  HostedByHIFLD  \n",
              "2  HostedByHIFLD  2021/12/29 05:49:30+00  HostedByHIFLD  \n",
              "3  HostedByHIFLD  2021/12/29 05:49:30+00  HostedByHIFLD  \n",
              "4  HostedByHIFLD  2021/12/29 05:49:30+00  HostedByHIFLD  \n",
              "\n",
              "[5 rows x 51 columns]"
            ],
            "text/html": [
              "\n",
              "  <div id=\"df-4cbbc161-804a-4116-a33b-5c3703dcf035\">\n",
              "    <div class=\"colab-df-container\">\n",
              "      <div>\n",
              "<style scoped>\n",
              "    .dataframe tbody tr th:only-of-type {\n",
              "        vertical-align: middle;\n",
              "    }\n",
              "\n",
              "    .dataframe tbody tr th {\n",
              "        vertical-align: top;\n",
              "    }\n",
              "\n",
              "    .dataframe thead th {\n",
              "        text-align: right;\n",
              "    }\n",
              "</style>\n",
              "<table border=\"1\" class=\"dataframe\">\n",
              "  <thead>\n",
              "    <tr style=\"text-align: right;\">\n",
              "      <th></th>\n",
              "      <th>X</th>\n",
              "      <th>Y</th>\n",
              "      <th>OBJECTID</th>\n",
              "      <th>PLANT_CODE</th>\n",
              "      <th>NAME</th>\n",
              "      <th>ADDRESS</th>\n",
              "      <th>CITY</th>\n",
              "      <th>STATE</th>\n",
              "      <th>ZIP</th>\n",
              "      <th>TELEPHONE</th>\n",
              "      <th>...</th>\n",
              "      <th>SUB_1</th>\n",
              "      <th>SUB_2</th>\n",
              "      <th>LINES</th>\n",
              "      <th>SOURCE_LAT</th>\n",
              "      <th>SOURC_LONG</th>\n",
              "      <th>GlobalID</th>\n",
              "      <th>CreationDate</th>\n",
              "      <th>Creator</th>\n",
              "      <th>EditDate</th>\n",
              "      <th>Editor</th>\n",
              "    </tr>\n",
              "  </thead>\n",
              "  <tbody>\n",
              "    <tr>\n",
              "      <th>0</th>\n",
              "      <td>-1.361831e+07</td>\n",
              "      <td>5.157821e+06</td>\n",
              "      <td>188</td>\n",
              "      <td>294</td>\n",
              "      <td>COPCO 1</td>\n",
              "      <td>COPCO RD 20 MI EAST OF I5</td>\n",
              "      <td>HORNBROOK</td>\n",
              "      <td>CA</td>\n",
              "      <td>96044</td>\n",
              "      <td>NOT AVAILABLE</td>\n",
              "      <td>...</td>\n",
              "      <td>NOT AVAILABLE</td>\n",
              "      <td>NOT AVAILABLE</td>\n",
              "      <td>0.0</td>\n",
              "      <td>41.978914</td>\n",
              "      <td>-122.335317</td>\n",
              "      <td>{FD7408A0-3F2E-4D4A-84D4-D06C22002E1B}</td>\n",
              "      <td>2021/12/29 05:49:30+00</td>\n",
              "      <td>HostedByHIFLD</td>\n",
              "      <td>2021/12/29 05:49:30+00</td>\n",
              "      <td>HostedByHIFLD</td>\n",
              "    </tr>\n",
              "    <tr>\n",
              "      <th>1</th>\n",
              "      <td>-1.362084e+07</td>\n",
              "      <td>5.157343e+06</td>\n",
              "      <td>189</td>\n",
              "      <td>295</td>\n",
              "      <td>COPCO 2</td>\n",
              "      <td>19305 DAGGETT ROAD</td>\n",
              "      <td>HORNBROOK</td>\n",
              "      <td>CA</td>\n",
              "      <td>96044</td>\n",
              "      <td>NOT AVAILABLE</td>\n",
              "      <td>...</td>\n",
              "      <td>COPCO 2</td>\n",
              "      <td>NOT AVAILABLE</td>\n",
              "      <td>0.0</td>\n",
              "      <td>41.975716</td>\n",
              "      <td>-122.358127</td>\n",
              "      <td>{491F1438-9905-40C3-8561-741E4CD78C37}</td>\n",
              "      <td>2021/12/29 05:49:30+00</td>\n",
              "      <td>HostedByHIFLD</td>\n",
              "      <td>2021/12/29 05:49:30+00</td>\n",
              "      <td>HostedByHIFLD</td>\n",
              "    </tr>\n",
              "    <tr>\n",
              "      <th>2</th>\n",
              "      <td>-1.362960e+07</td>\n",
              "      <td>5.150946e+06</td>\n",
              "      <td>191</td>\n",
              "      <td>297</td>\n",
              "      <td>IRON GATE</td>\n",
              "      <td>COPCO RD 9 MI EAST OF I5</td>\n",
              "      <td>HORNBROOK</td>\n",
              "      <td>CA</td>\n",
              "      <td>96044</td>\n",
              "      <td>NOT AVAILABLE</td>\n",
              "      <td>...</td>\n",
              "      <td>NOT AVAILABLE</td>\n",
              "      <td>NOT AVAILABLE</td>\n",
              "      <td>0.0</td>\n",
              "      <td>41.932981</td>\n",
              "      <td>-122.436780</td>\n",
              "      <td>{5B9E0FBC-43FB-460D-8187-FD55042EB501}</td>\n",
              "      <td>2021/12/29 05:49:30+00</td>\n",
              "      <td>HostedByHIFLD</td>\n",
              "      <td>2021/12/29 05:49:30+00</td>\n",
              "      <td>HostedByHIFLD</td>\n",
              "    </tr>\n",
              "    <tr>\n",
              "      <th>3</th>\n",
              "      <td>-1.256280e+07</td>\n",
              "      <td>4.648705e+06</td>\n",
              "      <td>193</td>\n",
              "      <td>299</td>\n",
              "      <td>BLUNDELL</td>\n",
              "      <td>10 MI EAST OF HIGHWAY 257</td>\n",
              "      <td>MILFORD</td>\n",
              "      <td>UT</td>\n",
              "      <td>84751</td>\n",
              "      <td>NOT AVAILABLE</td>\n",
              "      <td>...</td>\n",
              "      <td>BLUNDELL</td>\n",
              "      <td>NOT AVAILABLE</td>\n",
              "      <td>1.0</td>\n",
              "      <td>38.488771</td>\n",
              "      <td>-112.853591</td>\n",
              "      <td>{5FF77F2B-41AD-478A-9FF3-37D04737CE25}</td>\n",
              "      <td>2021/12/29 05:49:30+00</td>\n",
              "      <td>HostedByHIFLD</td>\n",
              "      <td>2021/12/29 05:49:30+00</td>\n",
              "      <td>HostedByHIFLD</td>\n",
              "    </tr>\n",
              "    <tr>\n",
              "      <th>4</th>\n",
              "      <td>-1.241182e+07</td>\n",
              "      <td>5.477623e+06</td>\n",
              "      <td>548</td>\n",
              "      <td>825</td>\n",
              "      <td>ASHTON</td>\n",
              "      <td>1338 N 3300 E</td>\n",
              "      <td>ASHTON</td>\n",
              "      <td>ID</td>\n",
              "      <td>83420</td>\n",
              "      <td>NOT AVAILABLE</td>\n",
              "      <td>...</td>\n",
              "      <td>UNKNOWN204720</td>\n",
              "      <td>NOT AVAILABLE</td>\n",
              "      <td>1.0</td>\n",
              "      <td>44.078656</td>\n",
              "      <td>-111.497266</td>\n",
              "      <td>{DF869347-58EA-4E2F-8C0F-89ACE845E63F}</td>\n",
              "      <td>2021/12/29 05:49:30+00</td>\n",
              "      <td>HostedByHIFLD</td>\n",
              "      <td>2021/12/29 05:49:30+00</td>\n",
              "      <td>HostedByHIFLD</td>\n",
              "    </tr>\n",
              "  </tbody>\n",
              "</table>\n",
              "<p>5 rows × 51 columns</p>\n",
              "</div>\n",
              "      <button class=\"colab-df-convert\" onclick=\"convertToInteractive('df-4cbbc161-804a-4116-a33b-5c3703dcf035')\"\n",
              "              title=\"Convert this dataframe to an interactive table.\"\n",
              "              style=\"display:none;\">\n",
              "        \n",
              "  <svg xmlns=\"http://www.w3.org/2000/svg\" height=\"24px\"viewBox=\"0 0 24 24\"\n",
              "       width=\"24px\">\n",
              "    <path d=\"M0 0h24v24H0V0z\" fill=\"none\"/>\n",
              "    <path d=\"M18.56 5.44l.94 2.06.94-2.06 2.06-.94-2.06-.94-.94-2.06-.94 2.06-2.06.94zm-11 1L8.5 8.5l.94-2.06 2.06-.94-2.06-.94L8.5 2.5l-.94 2.06-2.06.94zm10 10l.94 2.06.94-2.06 2.06-.94-2.06-.94-.94-2.06-.94 2.06-2.06.94z\"/><path d=\"M17.41 7.96l-1.37-1.37c-.4-.4-.92-.59-1.43-.59-.52 0-1.04.2-1.43.59L10.3 9.45l-7.72 7.72c-.78.78-.78 2.05 0 2.83L4 21.41c.39.39.9.59 1.41.59.51 0 1.02-.2 1.41-.59l7.78-7.78 2.81-2.81c.8-.78.8-2.07 0-2.86zM5.41 20L4 18.59l7.72-7.72 1.47 1.35L5.41 20z\"/>\n",
              "  </svg>\n",
              "      </button>\n",
              "      \n",
              "  <style>\n",
              "    .colab-df-container {\n",
              "      display:flex;\n",
              "      flex-wrap:wrap;\n",
              "      gap: 12px;\n",
              "    }\n",
              "\n",
              "    .colab-df-convert {\n",
              "      background-color: #E8F0FE;\n",
              "      border: none;\n",
              "      border-radius: 50%;\n",
              "      cursor: pointer;\n",
              "      display: none;\n",
              "      fill: #1967D2;\n",
              "      height: 32px;\n",
              "      padding: 0 0 0 0;\n",
              "      width: 32px;\n",
              "    }\n",
              "\n",
              "    .colab-df-convert:hover {\n",
              "      background-color: #E2EBFA;\n",
              "      box-shadow: 0px 1px 2px rgba(60, 64, 67, 0.3), 0px 1px 3px 1px rgba(60, 64, 67, 0.15);\n",
              "      fill: #174EA6;\n",
              "    }\n",
              "\n",
              "    [theme=dark] .colab-df-convert {\n",
              "      background-color: #3B4455;\n",
              "      fill: #D2E3FC;\n",
              "    }\n",
              "\n",
              "    [theme=dark] .colab-df-convert:hover {\n",
              "      background-color: #434B5C;\n",
              "      box-shadow: 0px 1px 3px 1px rgba(0, 0, 0, 0.15);\n",
              "      filter: drop-shadow(0px 1px 2px rgba(0, 0, 0, 0.3));\n",
              "      fill: #FFFFFF;\n",
              "    }\n",
              "  </style>\n",
              "\n",
              "      <script>\n",
              "        const buttonEl =\n",
              "          document.querySelector('#df-4cbbc161-804a-4116-a33b-5c3703dcf035 button.colab-df-convert');\n",
              "        buttonEl.style.display =\n",
              "          google.colab.kernel.accessAllowed ? 'block' : 'none';\n",
              "\n",
              "        async function convertToInteractive(key) {\n",
              "          const element = document.querySelector('#df-4cbbc161-804a-4116-a33b-5c3703dcf035');\n",
              "          const dataTable =\n",
              "            await google.colab.kernel.invokeFunction('convertToInteractive',\n",
              "                                                     [key], {});\n",
              "          if (!dataTable) return;\n",
              "\n",
              "          const docLinkHtml = 'Like what you see? Visit the ' +\n",
              "            '<a target=\"_blank\" href=https://colab.research.google.com/notebooks/data_table.ipynb>data table notebook</a>'\n",
              "            + ' to learn more about interactive tables.';\n",
              "          element.innerHTML = '';\n",
              "          dataTable['output_type'] = 'display_data';\n",
              "          await google.colab.output.renderOutput(dataTable, element);\n",
              "          const docLink = document.createElement('div');\n",
              "          docLink.innerHTML = docLinkHtml;\n",
              "          element.appendChild(docLink);\n",
              "        }\n",
              "      </script>\n",
              "    </div>\n",
              "  </div>\n",
              "  "
            ]
          },
          "metadata": {},
          "execution_count": 26
        }
      ],
      "source": [
        "df2.head()"
      ]
    },
    {
      "cell_type": "code",
      "execution_count": 27,
      "metadata": {
        "colab": {
          "base_uri": "https://localhost:8080/"
        },
        "id": "-VClLhJQOpzY",
        "outputId": "4e450c05-c69a-4a60-8436-84ce09598fd8"
      },
      "outputs": [
        {
          "output_type": "execute_result",
          "data": {
            "text/plain": [
              "0        41.978914\n",
              "1        41.975716\n",
              "2        41.932981\n",
              "3        38.488771\n",
              "4        44.078656\n",
              "           ...    \n",
              "83000          NaN\n",
              "83001          NaN\n",
              "83002          NaN\n",
              "83003          NaN\n",
              "83004          NaN\n",
              "Name: LATITUDE, Length: 83005, dtype: float64"
            ]
          },
          "metadata": {},
          "execution_count": 27
        }
      ],
      "source": [
        "df2['LATITUDE']"
      ]
    },
    {
      "cell_type": "code",
      "execution_count": 28,
      "metadata": {
        "colab": {
          "base_uri": "https://localhost:8080/"
        },
        "id": "k0-RZp_vOpzZ",
        "outputId": "bebdb753-a330-45ad-822d-de3643715090"
      },
      "outputs": [
        {
          "output_type": "execute_result",
          "data": {
            "text/plain": [
              "0       -122.335317\n",
              "1       -122.358127\n",
              "2       -122.436780\n",
              "3       -112.853591\n",
              "4       -111.497266\n",
              "            ...    \n",
              "83000           NaN\n",
              "83001           NaN\n",
              "83002           NaN\n",
              "83003           NaN\n",
              "83004           NaN\n",
              "Name: LONGITUDE, Length: 83005, dtype: float64"
            ]
          },
          "metadata": {},
          "execution_count": 28
        }
      ],
      "source": [
        "df2['LONGITUDE']"
      ]
    },
    {
      "cell_type": "code",
      "execution_count": 29,
      "metadata": {
        "id": "51No85UNOpzZ"
      },
      "outputs": [],
      "source": [
        "# find nearest longitude or latitude\n",
        "def find_nearest(speed_l, df_l, resolution):\n",
        "    for i in range(len(df_l)):\n",
        "        if (np.isnan(df_l[i])== False):\n",
        "            for j in speed_l:\n",
        "                if (abs(df_l[i]-j) <= resolution):\n",
        "                    df_l[i] = j\n",
        "                    break\n",
        "    return df_l"
      ]
    },
    {
      "cell_type": "code",
      "execution_count": 30,
      "metadata": {
        "colab": {
          "base_uri": "https://localhost:8080/"
        },
        "id": "8PFOsVQsOpza",
        "outputId": "a04cb69c-2a15-4ed2-edf6-99c0502ebdbd"
      },
      "outputs": [
        {
          "output_type": "stream",
          "name": "stderr",
          "text": [
            "<ipython-input-29-771cf2b652b8>:7: SettingWithCopyWarning: \n",
            "A value is trying to be set on a copy of a slice from a DataFrame\n",
            "\n",
            "See the caveats in the documentation: https://pandas.pydata.org/pandas-docs/stable/user_guide/indexing.html#returning-a-view-versus-a-copy\n",
            "  df_l[i] = j\n"
          ]
        }
      ],
      "source": [
        "df2_lon = find_nearest(list(lons[:].data),df2['LONGITUDE'],0.625)"
      ]
    },
    {
      "cell_type": "code",
      "execution_count": 31,
      "metadata": {
        "id": "Kp5-nmr1Opza"
      },
      "outputs": [],
      "source": [
        "df2['LONGITUDE'] = df2_lon"
      ]
    },
    {
      "cell_type": "code",
      "execution_count": 32,
      "metadata": {
        "colab": {
          "base_uri": "https://localhost:8080/"
        },
        "id": "F3WfqvxSOpza",
        "outputId": "179b7265-5bf8-448f-d6d4-b11bdf0c13bc"
      },
      "outputs": [
        {
          "output_type": "stream",
          "name": "stderr",
          "text": [
            "<ipython-input-29-771cf2b652b8>:7: SettingWithCopyWarning: \n",
            "A value is trying to be set on a copy of a slice from a DataFrame\n",
            "\n",
            "See the caveats in the documentation: https://pandas.pydata.org/pandas-docs/stable/user_guide/indexing.html#returning-a-view-versus-a-copy\n",
            "  df_l[i] = j\n"
          ]
        }
      ],
      "source": [
        "df2_lat = find_nearest(list(lats[:].data),df2['LATITUDE'],0.5)"
      ]
    },
    {
      "cell_type": "code",
      "execution_count": 33,
      "metadata": {
        "id": "zlrP0HXqOpza"
      },
      "outputs": [],
      "source": [
        "df2['LATITUDE'] = df2_lat"
      ]
    },
    {
      "cell_type": "code",
      "execution_count": 34,
      "metadata": {
        "colab": {
          "base_uri": "https://localhost:8080/",
          "height": 206
        },
        "id": "wSEqEdo5Opza",
        "outputId": "c8443ae4-a3d9-40e8-90a7-158420c70c70"
      },
      "outputs": [
        {
          "output_type": "execute_result",
          "data": {
            "text/plain": [
              "   LONGITUDE  LATITUDE  OPER_CAP  COAL_USED  NGAS_USED  OIL_USED\n",
              "0   -122.500      41.5      26.0        0.0        0.0       0.0\n",
              "1   -122.500      41.5      36.0        0.0        0.0       0.0\n",
              "2   -122.500      41.5      19.0        0.0        0.0       0.0\n",
              "3   -113.125      38.0      44.8        0.0        0.0       0.0\n",
              "4   -111.875      44.0       6.7        0.0        0.0       0.0"
            ],
            "text/html": [
              "\n",
              "  <div id=\"df-8958d84f-8de9-42f2-9bcf-a69de5cea602\">\n",
              "    <div class=\"colab-df-container\">\n",
              "      <div>\n",
              "<style scoped>\n",
              "    .dataframe tbody tr th:only-of-type {\n",
              "        vertical-align: middle;\n",
              "    }\n",
              "\n",
              "    .dataframe tbody tr th {\n",
              "        vertical-align: top;\n",
              "    }\n",
              "\n",
              "    .dataframe thead th {\n",
              "        text-align: right;\n",
              "    }\n",
              "</style>\n",
              "<table border=\"1\" class=\"dataframe\">\n",
              "  <thead>\n",
              "    <tr style=\"text-align: right;\">\n",
              "      <th></th>\n",
              "      <th>LONGITUDE</th>\n",
              "      <th>LATITUDE</th>\n",
              "      <th>OPER_CAP</th>\n",
              "      <th>COAL_USED</th>\n",
              "      <th>NGAS_USED</th>\n",
              "      <th>OIL_USED</th>\n",
              "    </tr>\n",
              "  </thead>\n",
              "  <tbody>\n",
              "    <tr>\n",
              "      <th>0</th>\n",
              "      <td>-122.500</td>\n",
              "      <td>41.5</td>\n",
              "      <td>26.0</td>\n",
              "      <td>0.0</td>\n",
              "      <td>0.0</td>\n",
              "      <td>0.0</td>\n",
              "    </tr>\n",
              "    <tr>\n",
              "      <th>1</th>\n",
              "      <td>-122.500</td>\n",
              "      <td>41.5</td>\n",
              "      <td>36.0</td>\n",
              "      <td>0.0</td>\n",
              "      <td>0.0</td>\n",
              "      <td>0.0</td>\n",
              "    </tr>\n",
              "    <tr>\n",
              "      <th>2</th>\n",
              "      <td>-122.500</td>\n",
              "      <td>41.5</td>\n",
              "      <td>19.0</td>\n",
              "      <td>0.0</td>\n",
              "      <td>0.0</td>\n",
              "      <td>0.0</td>\n",
              "    </tr>\n",
              "    <tr>\n",
              "      <th>3</th>\n",
              "      <td>-113.125</td>\n",
              "      <td>38.0</td>\n",
              "      <td>44.8</td>\n",
              "      <td>0.0</td>\n",
              "      <td>0.0</td>\n",
              "      <td>0.0</td>\n",
              "    </tr>\n",
              "    <tr>\n",
              "      <th>4</th>\n",
              "      <td>-111.875</td>\n",
              "      <td>44.0</td>\n",
              "      <td>6.7</td>\n",
              "      <td>0.0</td>\n",
              "      <td>0.0</td>\n",
              "      <td>0.0</td>\n",
              "    </tr>\n",
              "  </tbody>\n",
              "</table>\n",
              "</div>\n",
              "      <button class=\"colab-df-convert\" onclick=\"convertToInteractive('df-8958d84f-8de9-42f2-9bcf-a69de5cea602')\"\n",
              "              title=\"Convert this dataframe to an interactive table.\"\n",
              "              style=\"display:none;\">\n",
              "        \n",
              "  <svg xmlns=\"http://www.w3.org/2000/svg\" height=\"24px\"viewBox=\"0 0 24 24\"\n",
              "       width=\"24px\">\n",
              "    <path d=\"M0 0h24v24H0V0z\" fill=\"none\"/>\n",
              "    <path d=\"M18.56 5.44l.94 2.06.94-2.06 2.06-.94-2.06-.94-.94-2.06-.94 2.06-2.06.94zm-11 1L8.5 8.5l.94-2.06 2.06-.94-2.06-.94L8.5 2.5l-.94 2.06-2.06.94zm10 10l.94 2.06.94-2.06 2.06-.94-2.06-.94-.94-2.06-.94 2.06-2.06.94z\"/><path d=\"M17.41 7.96l-1.37-1.37c-.4-.4-.92-.59-1.43-.59-.52 0-1.04.2-1.43.59L10.3 9.45l-7.72 7.72c-.78.78-.78 2.05 0 2.83L4 21.41c.39.39.9.59 1.41.59.51 0 1.02-.2 1.41-.59l7.78-7.78 2.81-2.81c.8-.78.8-2.07 0-2.86zM5.41 20L4 18.59l7.72-7.72 1.47 1.35L5.41 20z\"/>\n",
              "  </svg>\n",
              "      </button>\n",
              "      \n",
              "  <style>\n",
              "    .colab-df-container {\n",
              "      display:flex;\n",
              "      flex-wrap:wrap;\n",
              "      gap: 12px;\n",
              "    }\n",
              "\n",
              "    .colab-df-convert {\n",
              "      background-color: #E8F0FE;\n",
              "      border: none;\n",
              "      border-radius: 50%;\n",
              "      cursor: pointer;\n",
              "      display: none;\n",
              "      fill: #1967D2;\n",
              "      height: 32px;\n",
              "      padding: 0 0 0 0;\n",
              "      width: 32px;\n",
              "    }\n",
              "\n",
              "    .colab-df-convert:hover {\n",
              "      background-color: #E2EBFA;\n",
              "      box-shadow: 0px 1px 2px rgba(60, 64, 67, 0.3), 0px 1px 3px 1px rgba(60, 64, 67, 0.15);\n",
              "      fill: #174EA6;\n",
              "    }\n",
              "\n",
              "    [theme=dark] .colab-df-convert {\n",
              "      background-color: #3B4455;\n",
              "      fill: #D2E3FC;\n",
              "    }\n",
              "\n",
              "    [theme=dark] .colab-df-convert:hover {\n",
              "      background-color: #434B5C;\n",
              "      box-shadow: 0px 1px 3px 1px rgba(0, 0, 0, 0.15);\n",
              "      filter: drop-shadow(0px 1px 2px rgba(0, 0, 0, 0.3));\n",
              "      fill: #FFFFFF;\n",
              "    }\n",
              "  </style>\n",
              "\n",
              "      <script>\n",
              "        const buttonEl =\n",
              "          document.querySelector('#df-8958d84f-8de9-42f2-9bcf-a69de5cea602 button.colab-df-convert');\n",
              "        buttonEl.style.display =\n",
              "          google.colab.kernel.accessAllowed ? 'block' : 'none';\n",
              "\n",
              "        async function convertToInteractive(key) {\n",
              "          const element = document.querySelector('#df-8958d84f-8de9-42f2-9bcf-a69de5cea602');\n",
              "          const dataTable =\n",
              "            await google.colab.kernel.invokeFunction('convertToInteractive',\n",
              "                                                     [key], {});\n",
              "          if (!dataTable) return;\n",
              "\n",
              "          const docLinkHtml = 'Like what you see? Visit the ' +\n",
              "            '<a target=\"_blank\" href=https://colab.research.google.com/notebooks/data_table.ipynb>data table notebook</a>'\n",
              "            + ' to learn more about interactive tables.';\n",
              "          element.innerHTML = '';\n",
              "          dataTable['output_type'] = 'display_data';\n",
              "          await google.colab.output.renderOutput(dataTable, element);\n",
              "          const docLink = document.createElement('div');\n",
              "          docLink.innerHTML = docLinkHtml;\n",
              "          element.appendChild(docLink);\n",
              "        }\n",
              "      </script>\n",
              "    </div>\n",
              "  </div>\n",
              "  "
            ]
          },
          "metadata": {},
          "execution_count": 34
        }
      ],
      "source": [
        "df2_transform = df2[['LONGITUDE','LATITUDE','OPER_CAP','COAL_USED','NGAS_USED','OIL_USED']]\n",
        "df2_transform.head()"
      ]
    },
    {
      "cell_type": "code",
      "execution_count": 35,
      "metadata": {
        "id": "Sx7X9ZEROpzb"
      },
      "outputs": [],
      "source": [
        "final_df = pd.merge(df,df2_transform, left_on=['lon','lat'], right_on = ['LONGITUDE','LATITUDE'], how='right')"
      ]
    },
    {
      "cell_type": "code",
      "execution_count": 36,
      "metadata": {
        "colab": {
          "base_uri": "https://localhost:8080/",
          "height": 206
        },
        "id": "mkW8BYcHOpzb",
        "outputId": "bde118b6-df4d-4c48-fb98-49a432647f5c"
      },
      "outputs": [
        {
          "output_type": "execute_result",
          "data": {
            "text/plain": [
              "       lon   lat     speed  LONGITUDE  LATITUDE  OPER_CAP  COAL_USED  \\\n",
              "0 -122.500  41.5  4.161290   -122.500      41.5      26.0        0.0   \n",
              "1 -122.500  41.5  4.161290   -122.500      41.5      36.0        0.0   \n",
              "2 -122.500  41.5  4.161290   -122.500      41.5      19.0        0.0   \n",
              "3 -113.125  38.0  5.384007   -113.125      38.0      44.8        0.0   \n",
              "4 -111.875  44.0  6.046074   -111.875      44.0       6.7        0.0   \n",
              "\n",
              "   NGAS_USED  OIL_USED  \n",
              "0        0.0       0.0  \n",
              "1        0.0       0.0  \n",
              "2        0.0       0.0  \n",
              "3        0.0       0.0  \n",
              "4        0.0       0.0  "
            ],
            "text/html": [
              "\n",
              "  <div id=\"df-a3237b13-eb30-459e-b54d-b80f90068ec3\">\n",
              "    <div class=\"colab-df-container\">\n",
              "      <div>\n",
              "<style scoped>\n",
              "    .dataframe tbody tr th:only-of-type {\n",
              "        vertical-align: middle;\n",
              "    }\n",
              "\n",
              "    .dataframe tbody tr th {\n",
              "        vertical-align: top;\n",
              "    }\n",
              "\n",
              "    .dataframe thead th {\n",
              "        text-align: right;\n",
              "    }\n",
              "</style>\n",
              "<table border=\"1\" class=\"dataframe\">\n",
              "  <thead>\n",
              "    <tr style=\"text-align: right;\">\n",
              "      <th></th>\n",
              "      <th>lon</th>\n",
              "      <th>lat</th>\n",
              "      <th>speed</th>\n",
              "      <th>LONGITUDE</th>\n",
              "      <th>LATITUDE</th>\n",
              "      <th>OPER_CAP</th>\n",
              "      <th>COAL_USED</th>\n",
              "      <th>NGAS_USED</th>\n",
              "      <th>OIL_USED</th>\n",
              "    </tr>\n",
              "  </thead>\n",
              "  <tbody>\n",
              "    <tr>\n",
              "      <th>0</th>\n",
              "      <td>-122.500</td>\n",
              "      <td>41.5</td>\n",
              "      <td>4.161290</td>\n",
              "      <td>-122.500</td>\n",
              "      <td>41.5</td>\n",
              "      <td>26.0</td>\n",
              "      <td>0.0</td>\n",
              "      <td>0.0</td>\n",
              "      <td>0.0</td>\n",
              "    </tr>\n",
              "    <tr>\n",
              "      <th>1</th>\n",
              "      <td>-122.500</td>\n",
              "      <td>41.5</td>\n",
              "      <td>4.161290</td>\n",
              "      <td>-122.500</td>\n",
              "      <td>41.5</td>\n",
              "      <td>36.0</td>\n",
              "      <td>0.0</td>\n",
              "      <td>0.0</td>\n",
              "      <td>0.0</td>\n",
              "    </tr>\n",
              "    <tr>\n",
              "      <th>2</th>\n",
              "      <td>-122.500</td>\n",
              "      <td>41.5</td>\n",
              "      <td>4.161290</td>\n",
              "      <td>-122.500</td>\n",
              "      <td>41.5</td>\n",
              "      <td>19.0</td>\n",
              "      <td>0.0</td>\n",
              "      <td>0.0</td>\n",
              "      <td>0.0</td>\n",
              "    </tr>\n",
              "    <tr>\n",
              "      <th>3</th>\n",
              "      <td>-113.125</td>\n",
              "      <td>38.0</td>\n",
              "      <td>5.384007</td>\n",
              "      <td>-113.125</td>\n",
              "      <td>38.0</td>\n",
              "      <td>44.8</td>\n",
              "      <td>0.0</td>\n",
              "      <td>0.0</td>\n",
              "      <td>0.0</td>\n",
              "    </tr>\n",
              "    <tr>\n",
              "      <th>4</th>\n",
              "      <td>-111.875</td>\n",
              "      <td>44.0</td>\n",
              "      <td>6.046074</td>\n",
              "      <td>-111.875</td>\n",
              "      <td>44.0</td>\n",
              "      <td>6.7</td>\n",
              "      <td>0.0</td>\n",
              "      <td>0.0</td>\n",
              "      <td>0.0</td>\n",
              "    </tr>\n",
              "  </tbody>\n",
              "</table>\n",
              "</div>\n",
              "      <button class=\"colab-df-convert\" onclick=\"convertToInteractive('df-a3237b13-eb30-459e-b54d-b80f90068ec3')\"\n",
              "              title=\"Convert this dataframe to an interactive table.\"\n",
              "              style=\"display:none;\">\n",
              "        \n",
              "  <svg xmlns=\"http://www.w3.org/2000/svg\" height=\"24px\"viewBox=\"0 0 24 24\"\n",
              "       width=\"24px\">\n",
              "    <path d=\"M0 0h24v24H0V0z\" fill=\"none\"/>\n",
              "    <path d=\"M18.56 5.44l.94 2.06.94-2.06 2.06-.94-2.06-.94-.94-2.06-.94 2.06-2.06.94zm-11 1L8.5 8.5l.94-2.06 2.06-.94-2.06-.94L8.5 2.5l-.94 2.06-2.06.94zm10 10l.94 2.06.94-2.06 2.06-.94-2.06-.94-.94-2.06-.94 2.06-2.06.94z\"/><path d=\"M17.41 7.96l-1.37-1.37c-.4-.4-.92-.59-1.43-.59-.52 0-1.04.2-1.43.59L10.3 9.45l-7.72 7.72c-.78.78-.78 2.05 0 2.83L4 21.41c.39.39.9.59 1.41.59.51 0 1.02-.2 1.41-.59l7.78-7.78 2.81-2.81c.8-.78.8-2.07 0-2.86zM5.41 20L4 18.59l7.72-7.72 1.47 1.35L5.41 20z\"/>\n",
              "  </svg>\n",
              "      </button>\n",
              "      \n",
              "  <style>\n",
              "    .colab-df-container {\n",
              "      display:flex;\n",
              "      flex-wrap:wrap;\n",
              "      gap: 12px;\n",
              "    }\n",
              "\n",
              "    .colab-df-convert {\n",
              "      background-color: #E8F0FE;\n",
              "      border: none;\n",
              "      border-radius: 50%;\n",
              "      cursor: pointer;\n",
              "      display: none;\n",
              "      fill: #1967D2;\n",
              "      height: 32px;\n",
              "      padding: 0 0 0 0;\n",
              "      width: 32px;\n",
              "    }\n",
              "\n",
              "    .colab-df-convert:hover {\n",
              "      background-color: #E2EBFA;\n",
              "      box-shadow: 0px 1px 2px rgba(60, 64, 67, 0.3), 0px 1px 3px 1px rgba(60, 64, 67, 0.15);\n",
              "      fill: #174EA6;\n",
              "    }\n",
              "\n",
              "    [theme=dark] .colab-df-convert {\n",
              "      background-color: #3B4455;\n",
              "      fill: #D2E3FC;\n",
              "    }\n",
              "\n",
              "    [theme=dark] .colab-df-convert:hover {\n",
              "      background-color: #434B5C;\n",
              "      box-shadow: 0px 1px 3px 1px rgba(0, 0, 0, 0.15);\n",
              "      filter: drop-shadow(0px 1px 2px rgba(0, 0, 0, 0.3));\n",
              "      fill: #FFFFFF;\n",
              "    }\n",
              "  </style>\n",
              "\n",
              "      <script>\n",
              "        const buttonEl =\n",
              "          document.querySelector('#df-a3237b13-eb30-459e-b54d-b80f90068ec3 button.colab-df-convert');\n",
              "        buttonEl.style.display =\n",
              "          google.colab.kernel.accessAllowed ? 'block' : 'none';\n",
              "\n",
              "        async function convertToInteractive(key) {\n",
              "          const element = document.querySelector('#df-a3237b13-eb30-459e-b54d-b80f90068ec3');\n",
              "          const dataTable =\n",
              "            await google.colab.kernel.invokeFunction('convertToInteractive',\n",
              "                                                     [key], {});\n",
              "          if (!dataTable) return;\n",
              "\n",
              "          const docLinkHtml = 'Like what you see? Visit the ' +\n",
              "            '<a target=\"_blank\" href=https://colab.research.google.com/notebooks/data_table.ipynb>data table notebook</a>'\n",
              "            + ' to learn more about interactive tables.';\n",
              "          element.innerHTML = '';\n",
              "          dataTable['output_type'] = 'display_data';\n",
              "          await google.colab.output.renderOutput(dataTable, element);\n",
              "          const docLink = document.createElement('div');\n",
              "          docLink.innerHTML = docLinkHtml;\n",
              "          element.appendChild(docLink);\n",
              "        }\n",
              "      </script>\n",
              "    </div>\n",
              "  </div>\n",
              "  "
            ]
          },
          "metadata": {},
          "execution_count": 36
        }
      ],
      "source": [
        "final_df.head()"
      ]
    },
    {
      "cell_type": "code",
      "execution_count": 37,
      "metadata": {
        "colab": {
          "base_uri": "https://localhost:8080/"
        },
        "id": "H0-w3sG2Opzc",
        "outputId": "d66e145d-ab3e-4b79-c908-c52eb70afacf"
      },
      "outputs": [
        {
          "output_type": "execute_result",
          "data": {
            "text/plain": [
              "83005"
            ]
          },
          "metadata": {},
          "execution_count": 37
        }
      ],
      "source": [
        "len(final_df)"
      ]
    },
    {
      "cell_type": "code",
      "execution_count": 38,
      "metadata": {
        "colab": {
          "base_uri": "https://localhost:8080/"
        },
        "id": "-Y7aIc6FOpzc",
        "outputId": "e9a763ea-2a0e-47d3-ab36-8e4ec541f630"
      },
      "outputs": [
        {
          "output_type": "execute_result",
          "data": {
            "text/plain": [
              "lon          2314\n",
              "lat          2314\n",
              "speed        2314\n",
              "LONGITUDE    2314\n",
              "LATITUDE     2314\n",
              "OPER_CAP     2314\n",
              "COAL_USED    2314\n",
              "NGAS_USED    2314\n",
              "OIL_USED     2314\n",
              "dtype: int64"
            ]
          },
          "metadata": {},
          "execution_count": 38
        }
      ],
      "source": [
        "final_df.isnull().sum()"
      ]
    },
    {
      "cell_type": "code",
      "source": [
        "final_df"
      ],
      "metadata": {
        "id": "mIRwJFAaWthg",
        "outputId": "3d73fdc0-150a-4003-805e-10939d36db40",
        "colab": {
          "base_uri": "https://localhost:8080/",
          "height": 424
        }
      },
      "execution_count": 39,
      "outputs": [
        {
          "output_type": "execute_result",
          "data": {
            "text/plain": [
              "           lon   lat     speed  LONGITUDE  LATITUDE  OPER_CAP  COAL_USED  \\\n",
              "0     -122.500  41.5  4.161290   -122.500      41.5      26.0        0.0   \n",
              "1     -122.500  41.5  4.161290   -122.500      41.5      36.0        0.0   \n",
              "2     -122.500  41.5  4.161290   -122.500      41.5      19.0        0.0   \n",
              "3     -113.125  38.0  5.384007   -113.125      38.0      44.8        0.0   \n",
              "4     -111.875  44.0  6.046074   -111.875      44.0       6.7        0.0   \n",
              "...        ...   ...       ...        ...       ...       ...        ...   \n",
              "83000      NaN   NaN       NaN        NaN       NaN       NaN        NaN   \n",
              "83001      NaN   NaN       NaN        NaN       NaN       NaN        NaN   \n",
              "83002      NaN   NaN       NaN        NaN       NaN       NaN        NaN   \n",
              "83003      NaN   NaN       NaN        NaN       NaN       NaN        NaN   \n",
              "83004      NaN   NaN       NaN        NaN       NaN       NaN        NaN   \n",
              "\n",
              "       NGAS_USED  OIL_USED  \n",
              "0            0.0       0.0  \n",
              "1            0.0       0.0  \n",
              "2            0.0       0.0  \n",
              "3            0.0       0.0  \n",
              "4            0.0       0.0  \n",
              "...          ...       ...  \n",
              "83000        NaN       NaN  \n",
              "83001        NaN       NaN  \n",
              "83002        NaN       NaN  \n",
              "83003        NaN       NaN  \n",
              "83004        NaN       NaN  \n",
              "\n",
              "[83005 rows x 9 columns]"
            ],
            "text/html": [
              "\n",
              "  <div id=\"df-f5cff536-16d0-4ed9-b0ce-df3001affdbb\">\n",
              "    <div class=\"colab-df-container\">\n",
              "      <div>\n",
              "<style scoped>\n",
              "    .dataframe tbody tr th:only-of-type {\n",
              "        vertical-align: middle;\n",
              "    }\n",
              "\n",
              "    .dataframe tbody tr th {\n",
              "        vertical-align: top;\n",
              "    }\n",
              "\n",
              "    .dataframe thead th {\n",
              "        text-align: right;\n",
              "    }\n",
              "</style>\n",
              "<table border=\"1\" class=\"dataframe\">\n",
              "  <thead>\n",
              "    <tr style=\"text-align: right;\">\n",
              "      <th></th>\n",
              "      <th>lon</th>\n",
              "      <th>lat</th>\n",
              "      <th>speed</th>\n",
              "      <th>LONGITUDE</th>\n",
              "      <th>LATITUDE</th>\n",
              "      <th>OPER_CAP</th>\n",
              "      <th>COAL_USED</th>\n",
              "      <th>NGAS_USED</th>\n",
              "      <th>OIL_USED</th>\n",
              "    </tr>\n",
              "  </thead>\n",
              "  <tbody>\n",
              "    <tr>\n",
              "      <th>0</th>\n",
              "      <td>-122.500</td>\n",
              "      <td>41.5</td>\n",
              "      <td>4.161290</td>\n",
              "      <td>-122.500</td>\n",
              "      <td>41.5</td>\n",
              "      <td>26.0</td>\n",
              "      <td>0.0</td>\n",
              "      <td>0.0</td>\n",
              "      <td>0.0</td>\n",
              "    </tr>\n",
              "    <tr>\n",
              "      <th>1</th>\n",
              "      <td>-122.500</td>\n",
              "      <td>41.5</td>\n",
              "      <td>4.161290</td>\n",
              "      <td>-122.500</td>\n",
              "      <td>41.5</td>\n",
              "      <td>36.0</td>\n",
              "      <td>0.0</td>\n",
              "      <td>0.0</td>\n",
              "      <td>0.0</td>\n",
              "    </tr>\n",
              "    <tr>\n",
              "      <th>2</th>\n",
              "      <td>-122.500</td>\n",
              "      <td>41.5</td>\n",
              "      <td>4.161290</td>\n",
              "      <td>-122.500</td>\n",
              "      <td>41.5</td>\n",
              "      <td>19.0</td>\n",
              "      <td>0.0</td>\n",
              "      <td>0.0</td>\n",
              "      <td>0.0</td>\n",
              "    </tr>\n",
              "    <tr>\n",
              "      <th>3</th>\n",
              "      <td>-113.125</td>\n",
              "      <td>38.0</td>\n",
              "      <td>5.384007</td>\n",
              "      <td>-113.125</td>\n",
              "      <td>38.0</td>\n",
              "      <td>44.8</td>\n",
              "      <td>0.0</td>\n",
              "      <td>0.0</td>\n",
              "      <td>0.0</td>\n",
              "    </tr>\n",
              "    <tr>\n",
              "      <th>4</th>\n",
              "      <td>-111.875</td>\n",
              "      <td>44.0</td>\n",
              "      <td>6.046074</td>\n",
              "      <td>-111.875</td>\n",
              "      <td>44.0</td>\n",
              "      <td>6.7</td>\n",
              "      <td>0.0</td>\n",
              "      <td>0.0</td>\n",
              "      <td>0.0</td>\n",
              "    </tr>\n",
              "    <tr>\n",
              "      <th>...</th>\n",
              "      <td>...</td>\n",
              "      <td>...</td>\n",
              "      <td>...</td>\n",
              "      <td>...</td>\n",
              "      <td>...</td>\n",
              "      <td>...</td>\n",
              "      <td>...</td>\n",
              "      <td>...</td>\n",
              "      <td>...</td>\n",
              "    </tr>\n",
              "    <tr>\n",
              "      <th>83000</th>\n",
              "      <td>NaN</td>\n",
              "      <td>NaN</td>\n",
              "      <td>NaN</td>\n",
              "      <td>NaN</td>\n",
              "      <td>NaN</td>\n",
              "      <td>NaN</td>\n",
              "      <td>NaN</td>\n",
              "      <td>NaN</td>\n",
              "      <td>NaN</td>\n",
              "    </tr>\n",
              "    <tr>\n",
              "      <th>83001</th>\n",
              "      <td>NaN</td>\n",
              "      <td>NaN</td>\n",
              "      <td>NaN</td>\n",
              "      <td>NaN</td>\n",
              "      <td>NaN</td>\n",
              "      <td>NaN</td>\n",
              "      <td>NaN</td>\n",
              "      <td>NaN</td>\n",
              "      <td>NaN</td>\n",
              "    </tr>\n",
              "    <tr>\n",
              "      <th>83002</th>\n",
              "      <td>NaN</td>\n",
              "      <td>NaN</td>\n",
              "      <td>NaN</td>\n",
              "      <td>NaN</td>\n",
              "      <td>NaN</td>\n",
              "      <td>NaN</td>\n",
              "      <td>NaN</td>\n",
              "      <td>NaN</td>\n",
              "      <td>NaN</td>\n",
              "    </tr>\n",
              "    <tr>\n",
              "      <th>83003</th>\n",
              "      <td>NaN</td>\n",
              "      <td>NaN</td>\n",
              "      <td>NaN</td>\n",
              "      <td>NaN</td>\n",
              "      <td>NaN</td>\n",
              "      <td>NaN</td>\n",
              "      <td>NaN</td>\n",
              "      <td>NaN</td>\n",
              "      <td>NaN</td>\n",
              "    </tr>\n",
              "    <tr>\n",
              "      <th>83004</th>\n",
              "      <td>NaN</td>\n",
              "      <td>NaN</td>\n",
              "      <td>NaN</td>\n",
              "      <td>NaN</td>\n",
              "      <td>NaN</td>\n",
              "      <td>NaN</td>\n",
              "      <td>NaN</td>\n",
              "      <td>NaN</td>\n",
              "      <td>NaN</td>\n",
              "    </tr>\n",
              "  </tbody>\n",
              "</table>\n",
              "<p>83005 rows × 9 columns</p>\n",
              "</div>\n",
              "      <button class=\"colab-df-convert\" onclick=\"convertToInteractive('df-f5cff536-16d0-4ed9-b0ce-df3001affdbb')\"\n",
              "              title=\"Convert this dataframe to an interactive table.\"\n",
              "              style=\"display:none;\">\n",
              "        \n",
              "  <svg xmlns=\"http://www.w3.org/2000/svg\" height=\"24px\"viewBox=\"0 0 24 24\"\n",
              "       width=\"24px\">\n",
              "    <path d=\"M0 0h24v24H0V0z\" fill=\"none\"/>\n",
              "    <path d=\"M18.56 5.44l.94 2.06.94-2.06 2.06-.94-2.06-.94-.94-2.06-.94 2.06-2.06.94zm-11 1L8.5 8.5l.94-2.06 2.06-.94-2.06-.94L8.5 2.5l-.94 2.06-2.06.94zm10 10l.94 2.06.94-2.06 2.06-.94-2.06-.94-.94-2.06-.94 2.06-2.06.94z\"/><path d=\"M17.41 7.96l-1.37-1.37c-.4-.4-.92-.59-1.43-.59-.52 0-1.04.2-1.43.59L10.3 9.45l-7.72 7.72c-.78.78-.78 2.05 0 2.83L4 21.41c.39.39.9.59 1.41.59.51 0 1.02-.2 1.41-.59l7.78-7.78 2.81-2.81c.8-.78.8-2.07 0-2.86zM5.41 20L4 18.59l7.72-7.72 1.47 1.35L5.41 20z\"/>\n",
              "  </svg>\n",
              "      </button>\n",
              "      \n",
              "  <style>\n",
              "    .colab-df-container {\n",
              "      display:flex;\n",
              "      flex-wrap:wrap;\n",
              "      gap: 12px;\n",
              "    }\n",
              "\n",
              "    .colab-df-convert {\n",
              "      background-color: #E8F0FE;\n",
              "      border: none;\n",
              "      border-radius: 50%;\n",
              "      cursor: pointer;\n",
              "      display: none;\n",
              "      fill: #1967D2;\n",
              "      height: 32px;\n",
              "      padding: 0 0 0 0;\n",
              "      width: 32px;\n",
              "    }\n",
              "\n",
              "    .colab-df-convert:hover {\n",
              "      background-color: #E2EBFA;\n",
              "      box-shadow: 0px 1px 2px rgba(60, 64, 67, 0.3), 0px 1px 3px 1px rgba(60, 64, 67, 0.15);\n",
              "      fill: #174EA6;\n",
              "    }\n",
              "\n",
              "    [theme=dark] .colab-df-convert {\n",
              "      background-color: #3B4455;\n",
              "      fill: #D2E3FC;\n",
              "    }\n",
              "\n",
              "    [theme=dark] .colab-df-convert:hover {\n",
              "      background-color: #434B5C;\n",
              "      box-shadow: 0px 1px 3px 1px rgba(0, 0, 0, 0.15);\n",
              "      filter: drop-shadow(0px 1px 2px rgba(0, 0, 0, 0.3));\n",
              "      fill: #FFFFFF;\n",
              "    }\n",
              "  </style>\n",
              "\n",
              "      <script>\n",
              "        const buttonEl =\n",
              "          document.querySelector('#df-f5cff536-16d0-4ed9-b0ce-df3001affdbb button.colab-df-convert');\n",
              "        buttonEl.style.display =\n",
              "          google.colab.kernel.accessAllowed ? 'block' : 'none';\n",
              "\n",
              "        async function convertToInteractive(key) {\n",
              "          const element = document.querySelector('#df-f5cff536-16d0-4ed9-b0ce-df3001affdbb');\n",
              "          const dataTable =\n",
              "            await google.colab.kernel.invokeFunction('convertToInteractive',\n",
              "                                                     [key], {});\n",
              "          if (!dataTable) return;\n",
              "\n",
              "          const docLinkHtml = 'Like what you see? Visit the ' +\n",
              "            '<a target=\"_blank\" href=https://colab.research.google.com/notebooks/data_table.ipynb>data table notebook</a>'\n",
              "            + ' to learn more about interactive tables.';\n",
              "          element.innerHTML = '';\n",
              "          dataTable['output_type'] = 'display_data';\n",
              "          await google.colab.output.renderOutput(dataTable, element);\n",
              "          const docLink = document.createElement('div');\n",
              "          docLink.innerHTML = docLinkHtml;\n",
              "          element.appendChild(docLink);\n",
              "        }\n",
              "      </script>\n",
              "    </div>\n",
              "  </div>\n",
              "  "
            ]
          },
          "metadata": {},
          "execution_count": 39
        }
      ]
    },
    {
      "cell_type": "code",
      "source": [],
      "metadata": {
        "id": "KRz42AtmvdGc"
      },
      "execution_count": 39,
      "outputs": []
    },
    {
      "cell_type": "code",
      "execution_count": 40,
      "metadata": {
        "colab": {
          "base_uri": "https://localhost:8080/"
        },
        "id": "-GILDLOsL_w3",
        "outputId": "5e7b9d41-1ca6-4dfd-a7e3-0ede9d88a214"
      },
      "outputs": [
        {
          "output_type": "execute_result",
          "data": {
            "text/plain": [
              "lon          2314\n",
              "lat          2314\n",
              "speed        2314\n",
              "LONGITUDE    2314\n",
              "LATITUDE     2314\n",
              "OPER_CAP     2314\n",
              "COAL_USED    2314\n",
              "NGAS_USED    2314\n",
              "OIL_USED     2314\n",
              "dtype: int64"
            ]
          },
          "metadata": {},
          "execution_count": 40
        }
      ],
      "source": [
        "#Check the missing values in the dataset\n",
        "final_df.isnull().sum()"
      ]
    },
    {
      "cell_type": "code",
      "source": [
        "final1=final_df.dropna()"
      ],
      "metadata": {
        "id": "5ldpWRd_bFrQ"
      },
      "execution_count": 41,
      "outputs": []
    },
    {
      "cell_type": "code",
      "source": [
        "final1.isnull().sum()"
      ],
      "metadata": {
        "colab": {
          "base_uri": "https://localhost:8080/"
        },
        "id": "9oHCS_CabSce",
        "outputId": "50933f56-f302-4ea0-ef48-fb5d831e4fda"
      },
      "execution_count": 42,
      "outputs": [
        {
          "output_type": "execute_result",
          "data": {
            "text/plain": [
              "lon          0\n",
              "lat          0\n",
              "speed        0\n",
              "LONGITUDE    0\n",
              "LATITUDE     0\n",
              "OPER_CAP     0\n",
              "COAL_USED    0\n",
              "NGAS_USED    0\n",
              "OIL_USED     0\n",
              "dtype: int64"
            ]
          },
          "metadata": {},
          "execution_count": 42
        }
      ]
    },
    {
      "cell_type": "code",
      "source": [
        "cols = ['OPER_CAP','OIL_USED','COAL_USED', 'speed','NGAS_USED']\n",
        "for i in cols:\n",
        "    mean=np.mean(np.array( pd.to_numeric(final1[i],errors='coerce')))\n",
        "    std=np.std(np.array( pd.to_numeric(final1[i],errors='coerce')))\n",
        "    if (std):\n",
        "        final1[i]= pd.to_numeric(final1[i],errors='coerce').apply(lambda x:(x-mean)/std)"
      ],
      "metadata": {
        "colab": {
          "base_uri": "https://localhost:8080/"
        },
        "id": "tByydOi3g6sm",
        "outputId": "91cecc3b-712d-4902-c866-1d73bdbc4837"
      },
      "execution_count": 64,
      "outputs": [
        {
          "output_type": "stream",
          "name": "stderr",
          "text": [
            "<ipython-input-64-8fc18531cef2>:6: SettingWithCopyWarning: \n",
            "A value is trying to be set on a copy of a slice from a DataFrame.\n",
            "Try using .loc[row_indexer,col_indexer] = value instead\n",
            "\n",
            "See the caveats in the documentation: https://pandas.pydata.org/pandas-docs/stable/user_guide/indexing.html#returning-a-view-versus-a-copy\n",
            "  final1[i]= pd.to_numeric(final1[i],errors='coerce').apply(lambda x:(x-mean)/std)\n"
          ]
        }
      ]
    },
    {
      "cell_type": "code",
      "source": [],
      "metadata": {
        "id": "itD-vN0RzHG1"
      },
      "execution_count": null,
      "outputs": []
    },
    {
      "cell_type": "code",
      "source": [
        "plt.figure(dpi=100)\n",
        "sns.boxplot(y=final1['OPER_CAP'],\n",
        "            showmeans=True,\n",
        "            meanprops = {'marker':'D','markerfacecolor':'red'},\n",
        "           )\n",
        "plt.show()"
      ],
      "metadata": {
        "id": "x6TmUrWGzJi5",
        "outputId": "27ef8238-c912-4cc8-b63e-1636c2ed3fb1",
        "colab": {
          "base_uri": "https://localhost:8080/",
          "height": 347
        }
      },
      "execution_count": 130,
      "outputs": [
        {
          "output_type": "display_data",
          "data": {
            "text/plain": [
              "<Figure size 600x400 with 1 Axes>"
            ],
            "image/png": "[encoded data removed]"
          },
          "metadata": {}
        }
      ]
    },
    {
      "cell_type": "code",
      "source": [
        "Q1 = final1['OPER_CAP'].quantile(0.25)\n",
        "Q3 = final1['OPER_CAP'].quantile(0.75)\n",
        "IQR = Q3 - Q1\n",
        "df = final1['OPER_CAP'][~((final1['OPER_CAP'] < (Q1 - 1.5 * IQR)) | (final1['OPER_CAP'] > (Q3 + 1.5 * IQR)))]\n",
        "print(df)\n",
        "plt.figure(dpi=100)\n",
        "sns.boxplot(y=df,\n",
        "            showmeans=True,\n",
        "            meanprops = {'marker':'D','markerfacecolor':'red'},\n",
        "           )\n",
        "plt.show()\n",
        "df.describe()\n",
        "plt.hist(df, bins=20,  alpha=0.5)"
      ],
      "metadata": {
        "colab": {
          "base_uri": "https://localhost:8080/",
          "height": 954
        },
        "id": "4WANYrNXkDPi",
        "outputId": "b1dda2ff-a8df-4a90-c536-934a5dd46235"
      },
      "execution_count": 125,
      "outputs": [
        {
          "output_type": "stream",
          "name": "stdout",
          "text": [
            "0        0.262855\n",
            "1        0.262896\n",
            "2        0.262827\n",
            "3        0.262931\n",
            "4        0.262777\n",
            "           ...   \n",
            "80686    0.262749\n",
            "80687    0.262749\n",
            "80688    0.262749\n",
            "80689    0.262749\n",
            "80690    0.262749\n",
            "Name: OPER_CAP, Length: 61875, dtype: float64\n"
          ]
        },
        {
          "output_type": "display_data",
          "data": {
            "text/plain": [
              "<Figure size 600x400 with 1 Axes>"
            ],
            "image/png": "[encoded data removed]"
          },
          "metadata": {}
        },
        {
          "output_type": "execute_result",
          "data": {
            "text/plain": [
              "(array([34397.,  9463.,  3800.,  1982.,  2536.,  1174.,  1129.,   700.,\n",
              "          815.,   626.,  1089.,   588.,   401.,   611.,   436.,   450.,\n",
              "          449.,   593.,   280.,   356.]),\n",
              " array([0.26274946, 0.26276815, 0.26278683, 0.26280552, 0.26282421,\n",
              "        0.2628429 , 0.26286158, 0.26288027, 0.26289896, 0.26291764,\n",
              "        0.26293633, 0.26295502, 0.2629737 , 0.26299239, 0.26301108,\n",
              "        0.26302977, 0.26304845, 0.26306714, 0.26308583, 0.26310451,\n",
              "        0.2631232 ]),\n",
              " <a list of 20 Patch objects>)"
            ]
          },
          "metadata": {},
          "execution_count": 125
        },
        {
          "output_type": "display_data",
          "data": {
            "text/plain": [
              "<Figure size 432x288 with 1 Axes>"
            ],
            "image/png": "[encoded data removed]"
          },
          "metadata": {}
        }
      ]
    },
    {
      "cell_type": "code",
      "source": [
        "Q1 = final1['OIL_USED'].quantile(0.25)\n",
        "Q3 = final1['OIL_USED'].quantile(0.75)\n",
        "IQR = Q3 - Q1\n",
        "df1 = final1['OIL_USED'][~((final1['OIL_USED'] < (Q1 - 1.5 * IQR)) | (final1['OIL_USED'] > (Q3 + 1.5 * IQR)))]\n",
        "print(df1)\n",
        "\n",
        "plt.figure(dpi=100)\n",
        "sns.boxplot(y=df1,\n",
        "            showmeans=True,\n",
        "            meanprops = {'marker':'D','markerfacecolor':'red'},\n",
        "           )\n",
        "plt.show()\n",
        "df1.describe()\n",
        "plt.hist(df1, bins=20,  alpha=0.5)"
      ],
      "metadata": {
        "id": "CuXj_fp6nQu_",
        "outputId": "76b1ef3b-5e59-48ec-8eb2-b6f58576e224",
        "colab": {
          "base_uri": "https://localhost:8080/",
          "height": 960
        }
      },
      "execution_count": 123,
      "outputs": [
        {
          "output_type": "stream",
          "name": "stdout",
          "text": [
            "0        0.285401\n",
            "1        0.285401\n",
            "2        0.285401\n",
            "3        0.285401\n",
            "4        0.285401\n",
            "           ...   \n",
            "80686    0.285401\n",
            "80687    0.285401\n",
            "80688    0.285401\n",
            "80689    0.285401\n",
            "80690    0.285401\n",
            "Name: OIL_USED, Length: 63671, dtype: float64\n"
          ]
        },
        {
          "output_type": "display_data",
          "data": {
            "text/plain": [
              "<Figure size 600x400 with 1 Axes>"
            ],
            "image/png": "[encoded data removed]"
          },
          "metadata": {}
        },
        {
          "output_type": "execute_result",
          "data": {
            "text/plain": [
              "(array([    0.,     0.,     0.,     0.,     0.,     0.,     0.,     0.,\n",
              "            0.,     0., 63671.,     0.,     0.,     0.,     0.,     0.,\n",
              "            0.,     0.,     0.,     0.]),\n",
              " array([-0.2145987, -0.1645987, -0.1145987, -0.0645987, -0.0145987,\n",
              "         0.0354013,  0.0854013,  0.1354013,  0.1854013,  0.2354013,\n",
              "         0.2854013,  0.3354013,  0.3854013,  0.4354013,  0.4854013,\n",
              "         0.5354013,  0.5854013,  0.6354013,  0.6854013,  0.7354013,\n",
              "         0.7854013]),\n",
              " <a list of 20 Patch objects>)"
            ]
          },
          "metadata": {},
          "execution_count": 123
        },
        {
          "output_type": "display_data",
          "data": {
            "text/plain": [
              "<Figure size 432x288 with 1 Axes>"
            ],
            "image/png": "[encoded data removed]"
          },
          "metadata": {}
        }
      ]
    },
    {
      "cell_type": "code",
      "source": [
        "Q1 = final1['speed'].quantile(0.25)\n",
        "Q3 = final1['speed'].quantile(0.75)\n",
        "IQR = Q3 - Q1\n",
        "df2= final1['speed'][~((final1['speed'] < (Q1 - 1.5 * IQR)) | (final1['speed'] > (Q3 + 1.5 * IQR)))]\n",
        "print(df2)\n",
        "\n",
        "plt.figure(dpi=100)\n",
        "sns.boxplot(y=df2,\n",
        "            showmeans=True,\n",
        "            meanprops = {'marker':'D','markerfacecolor':'red'},\n",
        "           )\n",
        "plt.show()\n",
        "df2.describe()\n",
        "plt.hist(df2, bins=20,  alpha=0.5)"
      ],
      "metadata": {
        "colab": {
          "base_uri": "https://localhost:8080/",
          "height": 954
        },
        "id": "0hj1fLAOnvIO",
        "outputId": "5076086f-6d65-4146-fdf1-99cab29342df"
      },
      "execution_count": 126,
      "outputs": [
        {
          "output_type": "stream",
          "name": "stdout",
          "text": [
            "0       -0.744815\n",
            "1       -0.744815\n",
            "2       -0.744815\n",
            "3       -0.084708\n",
            "4        0.272722\n",
            "           ...   \n",
            "80686   -0.726110\n",
            "80687   -0.496475\n",
            "80688   -1.118436\n",
            "80689   -1.442596\n",
            "80690   -1.235741\n",
            "Name: speed, Length: 78074, dtype: float64\n"
          ]
        },
        {
          "output_type": "display_data",
          "data": {
            "text/plain": [
              "<Figure size 600x400 with 1 Axes>"
            ],
            "image/png": "[encoded data removed]"
          },
          "metadata": {}
        },
        {
          "output_type": "execute_result",
          "data": {
            "text/plain": [
              "(array([  560.,   593.,  1264.,  1900.,  2925.,  6111.,  7324., 12643.,\n",
              "        12756.,  5284.,  4198.,  3887.,  4164.,  3892.,  2812.,  1444.,\n",
              "         2856.,   915.,  1464.,  1082.]),\n",
              " array([-2.06702301, -1.85571136, -1.6443997 , -1.43308804, -1.22177638,\n",
              "        -1.01046472, -0.79915306, -0.5878414 , -0.37652975, -0.16521809,\n",
              "         0.04609357,  0.25740523,  0.46871689,  0.68002855,  0.8913402 ,\n",
              "         1.10265186,  1.31396352,  1.52527518,  1.73658684,  1.9478985 ,\n",
              "         2.15921015]),\n",
              " <a list of 20 Patch objects>)"
            ]
          },
          "metadata": {},
          "execution_count": 126
        },
        {
          "output_type": "display_data",
          "data": {
            "text/plain": [
              "<Figure size 432x288 with 1 Axes>"
            ],
            "image/png": "[encoded data removed]"
          },
          "metadata": {}
        }
      ]
    },
    {
      "cell_type": "code",
      "source": [
        "Q1 = final1['speed'].quantile(0.25)\n",
        "Q3 = final1['speed'].quantile(0.75)\n",
        "IQR = Q3 - Q1\n",
        "df3= final1['speed'][~((final1['speed'] < (Q1 - 1.5 * IQR)) | (final1['speed'] > (Q3 + 1.5 * IQR)))]\n",
        "print(df3)\n",
        "\n",
        "plt.figure(dpi=100)\n",
        "sns.boxplot(y=df3,\n",
        "            showmeans=True,\n",
        "            meanprops = {'marker':'D','markerfacecolor':'red'},\n",
        "           )\n",
        "plt.show()\n",
        "df3.describe()\n",
        "plt.hist(df3, bins=20,  alpha=0.5)"
      ],
      "metadata": {
        "outputId": "de1a2b47-8910-402f-b196-8d18d68c84d7",
        "colab": {
          "base_uri": "https://localhost:8080/",
          "height": 954
        },
        "id": "U4xkh3AKoeYw"
      },
      "execution_count": 127,
      "outputs": [
        {
          "output_type": "stream",
          "name": "stdout",
          "text": [
            "0       -0.744815\n",
            "1       -0.744815\n",
            "2       -0.744815\n",
            "3       -0.084708\n",
            "4        0.272722\n",
            "           ...   \n",
            "80686   -0.726110\n",
            "80687   -0.496475\n",
            "80688   -1.118436\n",
            "80689   -1.442596\n",
            "80690   -1.235741\n",
            "Name: speed, Length: 78074, dtype: float64\n"
          ]
        },
        {
          "output_type": "display_data",
          "data": {
            "text/plain": [
              "<Figure size 600x400 with 1 Axes>"
            ],
            "image/png": "[encoded data removed]"
          },
          "metadata": {}
        },
        {
          "output_type": "execute_result",
          "data": {
            "text/plain": [
              "(array([  560.,   593.,  1264.,  1900.,  2925.,  6111.,  7324., 12643.,\n",
              "        12756.,  5284.,  4198.,  3887.,  4164.,  3892.,  2812.,  1444.,\n",
              "         2856.,   915.,  1464.,  1082.]),\n",
              " array([-2.06702301, -1.85571136, -1.6443997 , -1.43308804, -1.22177638,\n",
              "        -1.01046472, -0.79915306, -0.5878414 , -0.37652975, -0.16521809,\n",
              "         0.04609357,  0.25740523,  0.46871689,  0.68002855,  0.8913402 ,\n",
              "         1.10265186,  1.31396352,  1.52527518,  1.73658684,  1.9478985 ,\n",
              "         2.15921015]),\n",
              " <a list of 20 Patch objects>)"
            ]
          },
          "metadata": {},
          "execution_count": 127
        },
        {
          "output_type": "display_data",
          "data": {
            "text/plain": [
              "<Figure size 432x288 with 1 Axes>"
            ],
            "image/png": "[encoded data removed]"
          },
          "metadata": {}
        }
      ]
    },
    {
      "cell_type": "code",
      "source": [
        "Q1 = final1['NGAS_USED'].quantile(0.25)\n",
        "Q3 = final1['NGAS_USED'].quantile(0.75)\n",
        "IQR = Q3 - Q1\n",
        "df4= final1['NGAS_USED'][~((final1['NGAS_USED'] < (Q1 - 1.5 * IQR)) | (final1['NGAS_USED'] > (Q3 + 1.5 * IQR)))]\n",
        "print(df4)\n",
        "\n",
        "plt.figure(dpi=100)\n",
        "sns.boxplot(y=df4,\n",
        "            showmeans=True,\n",
        "            meanprops = {'marker':'D','markerfacecolor':'red'},\n",
        "           )\n",
        "plt.show()\n",
        "df4.describe()\n",
        "plt.hist(df4, bins=20,  alpha=0.5)"
      ],
      "metadata": {
        "id": "yUzVm5PKm_LP",
        "outputId": "19ae88d3-fd3c-4d2b-8296-93adf9986b19",
        "colab": {
          "base_uri": "https://localhost:8080/",
          "height": 954
        }
      },
      "execution_count": 129,
      "outputs": [
        {
          "output_type": "stream",
          "name": "stdout",
          "text": [
            "0       -0.167345\n",
            "1       -0.167345\n",
            "2       -0.167345\n",
            "3       -0.167345\n",
            "4       -0.167345\n",
            "           ...   \n",
            "80686   -0.167345\n",
            "80687   -0.167345\n",
            "80688   -0.167345\n",
            "80689   -0.167345\n",
            "80690   -0.167345\n",
            "Name: NGAS_USED, Length: 59521, dtype: float64\n"
          ]
        },
        {
          "output_type": "display_data",
          "data": {
            "text/plain": [
              "<Figure size 600x400 with 1 Axes>"
            ],
            "image/png": "[encoded data removed]"
          },
          "metadata": {}
        },
        {
          "output_type": "execute_result",
          "data": {
            "text/plain": [
              "(array([    0.,     0.,     0.,     0.,     0.,     0.,     0.,     0.,\n",
              "            0.,     0., 59521.,     0.,     0.,     0.,     0.,     0.,\n",
              "            0.,     0.,     0.,     0.]),\n",
              " array([-0.66734524, -0.61734524, -0.56734524, -0.51734524, -0.46734524,\n",
              "        -0.41734524, -0.36734524, -0.31734524, -0.26734524, -0.21734524,\n",
              "        -0.16734524, -0.11734524, -0.06734524, -0.01734524,  0.03265476,\n",
              "         0.08265476,  0.13265476,  0.18265476,  0.23265476,  0.28265476,\n",
              "         0.33265476]),\n",
              " <a list of 20 Patch objects>)"
            ]
          },
          "metadata": {},
          "execution_count": 129
        },
        {
          "output_type": "display_data",
          "data": {
            "text/plain": [
              "<Figure size 432x288 with 1 Axes>"
            ],
            "image/png": "[encoded data removed]"
          },
          "metadata": {}
        }
      ]
    },
    {
      "cell_type": "code",
      "source": [
        "# Plots\n",
        "import seaborn as sns\n",
        "import matplotlib.pyplot as plt\n"
      ],
      "metadata": {
        "id": "3NQuonedzdcS"
      },
      "execution_count": 43,
      "outputs": []
    },
    {
      "cell_type": "code",
      "source": [
        "corr = final1.corr()\n",
        "\n",
        "#Generating a mask for the upper triangle\n",
        "mask = np.zeros_like(corr, dtype=np.bool)\n",
        "mask[np.triu_indices_from(mask)] = True\n",
        "\n",
        "#Setting up the matplotlib figure\n",
        "f, ax = plt.subplots(figsize=(20,20))\n",
        "\n",
        "#Generating a custom diverging colormap\n",
        "cmap = sns.diverging_palette(220,10, as_cmap=True)\n",
        "\n",
        "#Drawing the heatmap with the mask\n",
        "sns.heatmap(corr, mask=mask, cmap=cmap, square=True, linewidths=.5, cbar_kws={\"shrink\": .5}, ax=ax)\n",
        "\n",
        "plt.title(\"Correlation Matrix\")\n",
        "plt.show()"
      ],
      "metadata": {
        "colab": {
          "base_uri": "https://localhost:8080/",
          "height": 1000
        },
        "id": "nkMmFKWXzNiI",
        "outputId": "4a06d39c-b6b5-43a9-d92f-0b9551f4f732"
      },
      "execution_count": 65,
      "outputs": [
        {
          "output_type": "stream",
          "name": "stderr",
          "text": [
            "<ipython-input-65-cc13b858903d>:4: DeprecationWarning: `np.bool` is a deprecated alias for the builtin `bool`. To silence this warning, use `bool` by itself. Doing this will not modify any behavior and is safe. If you specifically wanted the numpy scalar type, use `np.bool_` here.\n",
            "Deprecated in NumPy 1.20; for more details and guidance: https://numpy.org/devdocs/release/1.20.0-notes.html#deprecations\n",
            "  mask = np.zeros_like(corr, dtype=np.bool)\n"
          ]
        },
        {
          "output_type": "display_data",
          "data": {
            "text/plain": [
              "<Figure size 1440x1440 with 2 Axes>"
            ],
            "image/png": "[encoded data removed]"
          },
          "metadata": {}
        }
      ]
    },
    {
      "cell_type": "code",
      "source": [],
      "metadata": {
        "id": "y70BhCcP0HXX"
      },
      "execution_count": 45,
      "outputs": []
    },
    {
      "cell_type": "code",
      "execution_count": 46,
      "metadata": {
        "colab": {
          "base_uri": "https://localhost:8080/",
          "height": 347
        },
        "id": "2T7qDZP1suSn",
        "outputId": "231514b0-af64-4cba-c6d9-d0063f869a40"
      },
      "outputs": [
        {
          "output_type": "display_data",
          "data": {
            "text/plain": [
              "<Figure size 432x288 with 2 Axes>"
            ],
            "image/png": "[encoded data removed]"
          },
          "metadata": {}
        }
      ],
      "source": [
        "k  =20 # display 10 factors\n",
        "cols = corrmat.nlargest(k, 'OPER_CAP')['OPER_CAP'].index\n",
        "cm = np.corrcoef(final1[cols].values.T)\n",
        "sns.set(font_scale=1.25)\n",
        "hm = sns.heatmap(cm, cbar=True, annot=True, \\\n",
        "                 square=True, fmt='.2f', annot_kws={'size': 10}, yticklabels=cols.values, xticklabels=cols.values)\n",
        "plt.show()"
      ]
    },
    {
      "cell_type": "code",
      "source": [
        "corrmat = final1.corr()\n",
        "\n",
        "k  = 30 # diaplay 30 factors\n",
        "cols = corrmat.nlargest(k,'OPER_CAP')['OPER_CAP'].index\n",
        "cm = np.corrcoef(final1[cols].values.T)\n",
        "#Generating a mask for the upper triangle\n",
        "mask = np.zeros_like(cm , dtype=np.bool)\n",
        "mask[np.triu_indices_from(mask)] = True\n",
        "\n",
        "#Setting up the matplotlib figure\n",
        "f, ax = plt.subplots(figsize=(15,15))\n",
        "\n",
        "#Generating a custom diverging colormap\n",
        "cmap = sns.diverging_palette(200,10, as_cmap=True)\n",
        "\n",
        "#Drawing the heatmap with the mask\n",
        "sns.heatmap(cm, mask=mask, cmap=cmap, square=True, linewidths=.5, cbar_kws={\"shrink\": .5}, ax=ax, fmt='.2f', annot_kws={'size': 10}, yticklabels=cols.values, xticklabels=cols.values)\n",
        "\n",
        "plt.title(\"Correlation Matrix\")\n",
        "plt.show()\n"
      ],
      "metadata": {
        "colab": {
          "base_uri": "https://localhost:8080/",
          "height": 884
        },
        "outputId": "f09f83ec-5947-46dc-e73d-8465bb25ebbd",
        "id": "eaLuMk8I0L5J"
      },
      "execution_count": 47,
      "outputs": [
        {
          "output_type": "stream",
          "name": "stderr",
          "text": [
            "<ipython-input-47-074c7158dd18>:7: DeprecationWarning: `np.bool` is a deprecated alias for the builtin `bool`. To silence this warning, use `bool` by itself. Doing this will not modify any behavior and is safe. If you specifically wanted the numpy scalar type, use `np.bool_` here.\n",
            "Deprecated in NumPy 1.20; for more details and guidance: https://numpy.org/devdocs/release/1.20.0-notes.html#deprecations\n",
            "  mask = np.zeros_like(cm , dtype=np.bool)\n"
          ]
        },
        {
          "output_type": "display_data",
          "data": {
            "text/plain": [
              "<Figure size 1080x1080 with 2 Axes>"
            ],
            "image/png": "[encoded data removed]"
          },
          "metadata": {}
        }
      ]
    },
    {
      "cell_type": "code",
      "source": [
        "sns.set()\n",
        "cols = ['OPER_CAP','OIL_USED','COAL_USED', 'speed','NGAS_USED']\n",
        "sns.pairplot(final1[cols], size = 2.5)\n",
        "plt.show()"
      ],
      "metadata": {
        "colab": {
          "base_uri": "https://localhost:8080/",
          "height": 936
        },
        "id": "0yUuJ2w60b0B",
        "outputId": "9260e91e-a72b-4de6-cb3d-19a83bfee8f8"
      },
      "execution_count": 114,
      "outputs": [
        {
          "output_type": "stream",
          "name": "stderr",
          "text": [
            "/usr/local/lib/python3.8/dist-packages/seaborn/axisgrid.py:2076: UserWarning: The `size` parameter has been renamed to `height`; please update your code.\n",
            "  warnings.warn(msg, UserWarning)\n"
          ]
        },
        {
          "output_type": "display_data",
          "data": {
            "text/plain": [
              "<Figure size 900x900 with 30 Axes>"
            ],
            "image/png": "[encoded data removed]"
          },
          "metadata": {}
        }
      ]
    }
  ],
  "metadata": {
    "interpreter": {
      "hash": "bb61532732947b5317c978200b2eb2b5f190e2e064774ea5da188a980fb8fccc"
    },
    "kernelspec": {
      "display_name": "Python 3",
      "language": "python",
      "name": "python3"
    },
    "language_info": {
      "codemirror_mode": {
        "name": "ipython",
        "version": 3
      },
      "file_extension": ".py",
      "mimetype": "text/x-python",
      "name": "python",
      "nbconvert_exporter": "python",
      "pygments_lexer": "ipython3",
      "version": "3.7.6"
    },
    "colab": {
      "provenance": []
    }
  },
  "nbformat": 4,
  "nbformat_minor": 0
}