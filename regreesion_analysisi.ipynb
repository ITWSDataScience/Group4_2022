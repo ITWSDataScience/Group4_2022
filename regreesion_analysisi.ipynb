{
 "cells": [
  {
   "cell_type": "code",
   "execution_count": 1,
   "id": "4332e2d3",
   "metadata": {},
   "outputs": [],
   "source": [
    "from netCDF4 import Dataset\n",
    "import numpy as np\n",
    "import matplotlib.pyplot as plt\n",
    "import cartopy as ccrs\n",
    "from cartopy.mpl.gridliner import LONGITUDE_FORMATTER, LATITUDE_FORMATTER\n",
    "import matplotlib.ticker as mticker\n",
    "import pandas as pd\n",
    "import math\n",
    "import seaborn as sns"
   ]
  },
  {
   "cell_type": "code",
   "execution_count": 7,
   "id": "a1c2bbc0",
   "metadata": {},
   "outputs": [
    {
     "data": {
      "text/html": [
       "<div>\n",
       "<style scoped>\n",
       "    .dataframe tbody tr th:only-of-type {\n",
       "        vertical-align: middle;\n",
       "    }\n",
       "\n",
       "    .dataframe tbody tr th {\n",
       "        vertical-align: top;\n",
       "    }\n",
       "\n",
       "    .dataframe thead th {\n",
       "        text-align: right;\n",
       "    }\n",
       "</style>\n",
       "<table border=\"1\" class=\"dataframe\">\n",
       "  <thead>\n",
       "    <tr style=\"text-align: right;\">\n",
       "      <th></th>\n",
       "      <th>lon</th>\n",
       "      <th>lat</th>\n",
       "      <th>speed</th>\n",
       "      <th>LONGITUDE</th>\n",
       "      <th>LATITUDE</th>\n",
       "      <th>OPER_CAP</th>\n",
       "      <th>TYPE</th>\n",
       "      <th>COAL_USED</th>\n",
       "      <th>NGAS_USED</th>\n",
       "      <th>OIL_USED</th>\n",
       "    </tr>\n",
       "  </thead>\n",
       "  <tbody>\n",
       "    <tr>\n",
       "      <th>0</th>\n",
       "      <td>-122.500</td>\n",
       "      <td>41.5</td>\n",
       "      <td>4.161290</td>\n",
       "      <td>-122.500</td>\n",
       "      <td>41.5</td>\n",
       "      <td>26.0</td>\n",
       "      <td>HYDROELECTRIC PUMPED STORAGE</td>\n",
       "      <td>0.0</td>\n",
       "      <td>0.0</td>\n",
       "      <td>0.0</td>\n",
       "    </tr>\n",
       "    <tr>\n",
       "      <th>1</th>\n",
       "      <td>-122.500</td>\n",
       "      <td>41.5</td>\n",
       "      <td>4.161290</td>\n",
       "      <td>-122.500</td>\n",
       "      <td>41.5</td>\n",
       "      <td>36.0</td>\n",
       "      <td>HYDROELECTRIC PUMPED STORAGE</td>\n",
       "      <td>0.0</td>\n",
       "      <td>0.0</td>\n",
       "      <td>0.0</td>\n",
       "    </tr>\n",
       "    <tr>\n",
       "      <th>2</th>\n",
       "      <td>-122.500</td>\n",
       "      <td>41.5</td>\n",
       "      <td>4.161290</td>\n",
       "      <td>-122.500</td>\n",
       "      <td>41.5</td>\n",
       "      <td>19.0</td>\n",
       "      <td>HYDROELECTRIC PUMPED STORAGE</td>\n",
       "      <td>0.0</td>\n",
       "      <td>0.0</td>\n",
       "      <td>0.0</td>\n",
       "    </tr>\n",
       "    <tr>\n",
       "      <th>3</th>\n",
       "      <td>-113.125</td>\n",
       "      <td>38.0</td>\n",
       "      <td>5.384007</td>\n",
       "      <td>-113.125</td>\n",
       "      <td>38.0</td>\n",
       "      <td>44.8</td>\n",
       "      <td>GEOTHERMAL</td>\n",
       "      <td>0.0</td>\n",
       "      <td>0.0</td>\n",
       "      <td>0.0</td>\n",
       "    </tr>\n",
       "    <tr>\n",
       "      <th>4</th>\n",
       "      <td>-111.875</td>\n",
       "      <td>44.0</td>\n",
       "      <td>6.046074</td>\n",
       "      <td>-111.875</td>\n",
       "      <td>44.0</td>\n",
       "      <td>6.7</td>\n",
       "      <td>CONVENTIONAL HYDROELECTRIC</td>\n",
       "      <td>0.0</td>\n",
       "      <td>0.0</td>\n",
       "      <td>0.0</td>\n",
       "    </tr>\n",
       "  </tbody>\n",
       "</table>\n",
       "</div>"
      ],
      "text/plain": [
       "       lon   lat     speed  LONGITUDE  LATITUDE  OPER_CAP  \\\n",
       "0 -122.500  41.5  4.161290   -122.500      41.5      26.0   \n",
       "1 -122.500  41.5  4.161290   -122.500      41.5      36.0   \n",
       "2 -122.500  41.5  4.161290   -122.500      41.5      19.0   \n",
       "3 -113.125  38.0  5.384007   -113.125      38.0      44.8   \n",
       "4 -111.875  44.0  6.046074   -111.875      44.0       6.7   \n",
       "\n",
       "                           TYPE  COAL_USED  NGAS_USED  OIL_USED  \n",
       "0  HYDROELECTRIC PUMPED STORAGE        0.0        0.0       0.0  \n",
       "1  HYDROELECTRIC PUMPED STORAGE        0.0        0.0       0.0  \n",
       "2  HYDROELECTRIC PUMPED STORAGE        0.0        0.0       0.0  \n",
       "3                    GEOTHERMAL        0.0        0.0       0.0  \n",
       "4    CONVENTIONAL HYDROELECTRIC        0.0        0.0       0.0  "
      ]
     },
     "execution_count": 7,
     "metadata": {},
     "output_type": "execute_result"
    }
   ],
   "source": [
    "df = pd.read_csv('data1.csv')\n",
    "df.head()"
   ]
  },
  {
   "cell_type": "code",
   "execution_count": 125,
   "id": "91be8de9",
   "metadata": {},
   "outputs": [],
   "source": [
    "df = df.dropna()"
   ]
  },
  {
   "cell_type": "code",
   "execution_count": 207,
   "id": "3c0b9902",
   "metadata": {},
   "outputs": [
    {
     "data": {
      "text/plain": [
       "80691"
      ]
     },
     "execution_count": 207,
     "metadata": {},
     "output_type": "execute_result"
    }
   ],
   "source": [
    "len(df)"
   ]
  },
  {
   "cell_type": "code",
   "execution_count": 208,
   "id": "d10be5bd",
   "metadata": {},
   "outputs": [
    {
     "data": {
      "text/plain": [
       " 0.0          69943\n",
       "-999999.0      7966\n",
       " 4215853.0        7\n",
       " 174464.0         7\n",
       " 53288.0          7\n",
       "              ...  \n",
       " 145081.0         1\n",
       " 3225966.0        1\n",
       " 261026.0         1\n",
       " 6435498.0        1\n",
       " 2943.0           1\n",
       "Name: COAL_USED, Length: 952, dtype: int64"
      ]
     },
     "execution_count": 208,
     "metadata": {},
     "output_type": "execute_result"
    }
   ],
   "source": [
    "df['COAL_USED'].value_counts()"
   ]
  },
  {
   "cell_type": "code",
   "execution_count": 126,
   "id": "f865b990",
   "metadata": {},
   "outputs": [],
   "source": [
    "df_wind = df[df['TYPE'].str.contains('WIND')]"
   ]
  },
  {
   "cell_type": "code",
   "execution_count": 127,
   "id": "15de2b87",
   "metadata": {},
   "outputs": [],
   "source": [
    "df_wind = df_wind.reset_index()"
   ]
  },
  {
   "cell_type": "code",
   "execution_count": 128,
   "id": "7a660373",
   "metadata": {},
   "outputs": [
    {
     "data": {
      "text/html": [
       "<div>\n",
       "<style scoped>\n",
       "    .dataframe tbody tr th:only-of-type {\n",
       "        vertical-align: middle;\n",
       "    }\n",
       "\n",
       "    .dataframe tbody tr th {\n",
       "        vertical-align: top;\n",
       "    }\n",
       "\n",
       "    .dataframe thead th {\n",
       "        text-align: right;\n",
       "    }\n",
       "</style>\n",
       "<table border=\"1\" class=\"dataframe\">\n",
       "  <thead>\n",
       "    <tr style=\"text-align: right;\">\n",
       "      <th></th>\n",
       "      <th>index</th>\n",
       "      <th>lon</th>\n",
       "      <th>lat</th>\n",
       "      <th>speed</th>\n",
       "      <th>LONGITUDE</th>\n",
       "      <th>LATITUDE</th>\n",
       "      <th>OPER_CAP</th>\n",
       "      <th>TYPE</th>\n",
       "      <th>COAL_USED</th>\n",
       "      <th>NGAS_USED</th>\n",
       "      <th>OIL_USED</th>\n",
       "    </tr>\n",
       "  </thead>\n",
       "  <tbody>\n",
       "    <tr>\n",
       "      <th>0</th>\n",
       "      <td>270</td>\n",
       "      <td>-163.125</td>\n",
       "      <td>66.5</td>\n",
       "      <td>6.009210</td>\n",
       "      <td>-163.125</td>\n",
       "      <td>66.5</td>\n",
       "      <td>17.5</td>\n",
       "      <td>BATTERIES; ONSHORE WIND TURBINE; PETROLEUM LIQ...</td>\n",
       "      <td>0.0</td>\n",
       "      <td>0.0</td>\n",
       "      <td>31368.0</td>\n",
       "    </tr>\n",
       "    <tr>\n",
       "      <th>1</th>\n",
       "      <td>542</td>\n",
       "      <td>-88.125</td>\n",
       "      <td>44.5</td>\n",
       "      <td>7.222385</td>\n",
       "      <td>-88.125</td>\n",
       "      <td>44.5</td>\n",
       "      <td>0.0</td>\n",
       "      <td>ONSHORE WIND TURBINE</td>\n",
       "      <td>0.0</td>\n",
       "      <td>0.0</td>\n",
       "      <td>0.0</td>\n",
       "    </tr>\n",
       "    <tr>\n",
       "      <th>2</th>\n",
       "      <td>552</td>\n",
       "      <td>-73.125</td>\n",
       "      <td>42.5</td>\n",
       "      <td>4.083856</td>\n",
       "      <td>-73.125</td>\n",
       "      <td>42.5</td>\n",
       "      <td>6.0</td>\n",
       "      <td>ONSHORE WIND TURBINE</td>\n",
       "      <td>0.0</td>\n",
       "      <td>0.0</td>\n",
       "      <td>0.0</td>\n",
       "    </tr>\n",
       "    <tr>\n",
       "      <th>3</th>\n",
       "      <td>606</td>\n",
       "      <td>-72.500</td>\n",
       "      <td>42.0</td>\n",
       "      <td>3.834629</td>\n",
       "      <td>-72.500</td>\n",
       "      <td>42.0</td>\n",
       "      <td>3.0</td>\n",
       "      <td>ONSHORE WIND TURBINE</td>\n",
       "      <td>0.0</td>\n",
       "      <td>0.0</td>\n",
       "      <td>0.0</td>\n",
       "    </tr>\n",
       "    <tr>\n",
       "      <th>4</th>\n",
       "      <td>617</td>\n",
       "      <td>-121.875</td>\n",
       "      <td>38.0</td>\n",
       "      <td>4.627170</td>\n",
       "      <td>-121.875</td>\n",
       "      <td>38.0</td>\n",
       "      <td>228.2</td>\n",
       "      <td>ONSHORE WIND TURBINE</td>\n",
       "      <td>0.0</td>\n",
       "      <td>0.0</td>\n",
       "      <td>0.0</td>\n",
       "    </tr>\n",
       "  </tbody>\n",
       "</table>\n",
       "</div>"
      ],
      "text/plain": [
       "   index      lon   lat     speed  LONGITUDE  LATITUDE  OPER_CAP  \\\n",
       "0    270 -163.125  66.5  6.009210   -163.125      66.5      17.5   \n",
       "1    542  -88.125  44.5  7.222385    -88.125      44.5       0.0   \n",
       "2    552  -73.125  42.5  4.083856    -73.125      42.5       6.0   \n",
       "3    606  -72.500  42.0  3.834629    -72.500      42.0       3.0   \n",
       "4    617 -121.875  38.0  4.627170   -121.875      38.0     228.2   \n",
       "\n",
       "                                                TYPE  COAL_USED  NGAS_USED  \\\n",
       "0  BATTERIES; ONSHORE WIND TURBINE; PETROLEUM LIQ...        0.0        0.0   \n",
       "1                               ONSHORE WIND TURBINE        0.0        0.0   \n",
       "2                               ONSHORE WIND TURBINE        0.0        0.0   \n",
       "3                               ONSHORE WIND TURBINE        0.0        0.0   \n",
       "4                               ONSHORE WIND TURBINE        0.0        0.0   \n",
       "\n",
       "   OIL_USED  \n",
       "0   31368.0  \n",
       "1       0.0  \n",
       "2       0.0  \n",
       "3       0.0  \n",
       "4       0.0  "
      ]
     },
     "execution_count": 128,
     "metadata": {},
     "output_type": "execute_result"
    }
   ],
   "source": [
    "df_wind.head()"
   ]
  },
  {
   "cell_type": "code",
   "execution_count": 209,
   "id": "dc32b4cd",
   "metadata": {},
   "outputs": [
    {
     "data": {
      "text/plain": [
       "8966"
      ]
     },
     "execution_count": 209,
     "metadata": {},
     "output_type": "execute_result"
    }
   ],
   "source": [
    "len(df_wind)"
   ]
  },
  {
   "cell_type": "code",
   "execution_count": 129,
   "id": "ccf9ce6d",
   "metadata": {},
   "outputs": [
    {
     "data": {
      "text/plain": [
       " 0.0         1139\n",
       "-999999.0     379\n",
       " 150.0        251\n",
       " 10.0         203\n",
       " 1.5          199\n",
       "             ... \n",
       " 79.7           1\n",
       " 49.6           1\n",
       " 146.2          1\n",
       " 96.7           1\n",
       " 8.8            1\n",
       "Name: OPER_CAP, Length: 487, dtype: int64"
      ]
     },
     "execution_count": 129,
     "metadata": {},
     "output_type": "execute_result"
    }
   ],
   "source": [
    "df_wind['OPER_CAP'].value_counts()"
   ]
  },
  {
   "cell_type": "code",
   "execution_count": 388,
   "id": "2e462131",
   "metadata": {},
   "outputs": [
    {
     "data": {
      "text/plain": [
       "count      8966.000000\n",
       "mean     -87816.274593\n",
       "std      283173.171948\n",
       "min     -999999.000000\n",
       "25%           0.000000\n",
       "50%           0.000000\n",
       "75%           0.000000\n",
       "max       44685.000000\n",
       "Name: OIL_USED, dtype: float64"
      ]
     },
     "execution_count": 388,
     "metadata": {},
     "output_type": "execute_result"
    }
   ],
   "source": [
    "df_wind['OIL_USED'].describe()"
   ]
  },
  {
   "cell_type": "code",
   "execution_count": 387,
   "id": "788ecc61",
   "metadata": {},
   "outputs": [
    {
     "data": {
      "image/png": "[encoded data removed]",
      "text/plain": [
       "<Figure size 432x432 with 3 Axes>"
      ]
     },
     "metadata": {
      "needs_background": "light"
     },
     "output_type": "display_data"
    }
   ],
   "source": [
    "f = pd.melt(df_wind, value_vars=['OIL_USED','NGAS_USED','COAL_USED'])\n",
    "g = sns.FacetGrid(f, col=\"variable\",  col_wrap=2, sharex=False, sharey=False)\n",
    "g = g.map(sns.histplot, \"value\")"
   ]
  },
  {
   "cell_type": "code",
   "execution_count": 135,
   "id": "83c16b13",
   "metadata": {},
   "outputs": [],
   "source": [
    "df_new = df_wind.drop(df_wind[(df_wind['OPER_CAP']==-999999)| (df_wind['OPER_CAP']==0)].index)\n",
    "df_new = df_new.drop(columns=['index'])"
   ]
  },
  {
   "cell_type": "code",
   "execution_count": 136,
   "id": "b32f8b97",
   "metadata": {},
   "outputs": [
    {
     "data": {
      "text/html": [
       "<div>\n",
       "<style scoped>\n",
       "    .dataframe tbody tr th:only-of-type {\n",
       "        vertical-align: middle;\n",
       "    }\n",
       "\n",
       "    .dataframe tbody tr th {\n",
       "        vertical-align: top;\n",
       "    }\n",
       "\n",
       "    .dataframe thead th {\n",
       "        text-align: right;\n",
       "    }\n",
       "</style>\n",
       "<table border=\"1\" class=\"dataframe\">\n",
       "  <thead>\n",
       "    <tr style=\"text-align: right;\">\n",
       "      <th></th>\n",
       "      <th>lon</th>\n",
       "      <th>lat</th>\n",
       "      <th>speed</th>\n",
       "      <th>LONGITUDE</th>\n",
       "      <th>LATITUDE</th>\n",
       "      <th>OPER_CAP</th>\n",
       "      <th>TYPE</th>\n",
       "      <th>COAL_USED</th>\n",
       "      <th>NGAS_USED</th>\n",
       "      <th>OIL_USED</th>\n",
       "    </tr>\n",
       "  </thead>\n",
       "  <tbody>\n",
       "    <tr>\n",
       "      <th>0</th>\n",
       "      <td>-163.125</td>\n",
       "      <td>66.5</td>\n",
       "      <td>6.009210</td>\n",
       "      <td>-163.125</td>\n",
       "      <td>66.5</td>\n",
       "      <td>17.5</td>\n",
       "      <td>BATTERIES; ONSHORE WIND TURBINE; PETROLEUM LIQ...</td>\n",
       "      <td>0.0</td>\n",
       "      <td>0.0</td>\n",
       "      <td>31368.0</td>\n",
       "    </tr>\n",
       "    <tr>\n",
       "      <th>2</th>\n",
       "      <td>-73.125</td>\n",
       "      <td>42.5</td>\n",
       "      <td>4.083856</td>\n",
       "      <td>-73.125</td>\n",
       "      <td>42.5</td>\n",
       "      <td>6.0</td>\n",
       "      <td>ONSHORE WIND TURBINE</td>\n",
       "      <td>0.0</td>\n",
       "      <td>0.0</td>\n",
       "      <td>0.0</td>\n",
       "    </tr>\n",
       "    <tr>\n",
       "      <th>3</th>\n",
       "      <td>-72.500</td>\n",
       "      <td>42.0</td>\n",
       "      <td>3.834629</td>\n",
       "      <td>-72.500</td>\n",
       "      <td>42.0</td>\n",
       "      <td>3.0</td>\n",
       "      <td>ONSHORE WIND TURBINE</td>\n",
       "      <td>0.0</td>\n",
       "      <td>0.0</td>\n",
       "      <td>0.0</td>\n",
       "    </tr>\n",
       "    <tr>\n",
       "      <th>4</th>\n",
       "      <td>-121.875</td>\n",
       "      <td>38.0</td>\n",
       "      <td>4.627170</td>\n",
       "      <td>-121.875</td>\n",
       "      <td>38.0</td>\n",
       "      <td>228.2</td>\n",
       "      <td>ONSHORE WIND TURBINE</td>\n",
       "      <td>0.0</td>\n",
       "      <td>0.0</td>\n",
       "      <td>0.0</td>\n",
       "    </tr>\n",
       "    <tr>\n",
       "      <th>6</th>\n",
       "      <td>-100.000</td>\n",
       "      <td>42.5</td>\n",
       "      <td>10.126925</td>\n",
       "      <td>-100.000</td>\n",
       "      <td>42.5</td>\n",
       "      <td>3.0</td>\n",
       "      <td>ONSHORE WIND TURBINE</td>\n",
       "      <td>0.0</td>\n",
       "      <td>0.0</td>\n",
       "      <td>0.0</td>\n",
       "    </tr>\n",
       "    <tr>\n",
       "      <th>...</th>\n",
       "      <td>...</td>\n",
       "      <td>...</td>\n",
       "      <td>...</td>\n",
       "      <td>...</td>\n",
       "      <td>...</td>\n",
       "      <td>...</td>\n",
       "      <td>...</td>\n",
       "      <td>...</td>\n",
       "      <td>...</td>\n",
       "      <td>...</td>\n",
       "    </tr>\n",
       "    <tr>\n",
       "      <th>8947</th>\n",
       "      <td>-97.500</td>\n",
       "      <td>37.5</td>\n",
       "      <td>4.678155</td>\n",
       "      <td>-97.500</td>\n",
       "      <td>37.5</td>\n",
       "      <td>243.5</td>\n",
       "      <td>ONSHORE WIND TURBINE</td>\n",
       "      <td>0.0</td>\n",
       "      <td>0.0</td>\n",
       "      <td>0.0</td>\n",
       "    </tr>\n",
       "    <tr>\n",
       "      <th>8948</th>\n",
       "      <td>-101.875</td>\n",
       "      <td>36.5</td>\n",
       "      <td>5.714166</td>\n",
       "      <td>-101.875</td>\n",
       "      <td>36.5</td>\n",
       "      <td>80.0</td>\n",
       "      <td>ONSHORE WIND TURBINE</td>\n",
       "      <td>0.0</td>\n",
       "      <td>0.0</td>\n",
       "      <td>0.0</td>\n",
       "    </tr>\n",
       "    <tr>\n",
       "      <th>8951</th>\n",
       "      <td>-73.750</td>\n",
       "      <td>42.5</td>\n",
       "      <td>3.932154</td>\n",
       "      <td>-73.750</td>\n",
       "      <td>42.5</td>\n",
       "      <td>1.5</td>\n",
       "      <td>ONSHORE WIND TURBINE</td>\n",
       "      <td>0.0</td>\n",
       "      <td>0.0</td>\n",
       "      <td>0.0</td>\n",
       "    </tr>\n",
       "    <tr>\n",
       "      <th>8958</th>\n",
       "      <td>-77.500</td>\n",
       "      <td>43.0</td>\n",
       "      <td>5.687595</td>\n",
       "      <td>-77.500</td>\n",
       "      <td>43.0</td>\n",
       "      <td>1.7</td>\n",
       "      <td>NATURAL GAS FIRED COMBUSTION TURBINE; ONSHORE ...</td>\n",
       "      <td>0.0</td>\n",
       "      <td>0.0</td>\n",
       "      <td>0.0</td>\n",
       "    </tr>\n",
       "    <tr>\n",
       "      <th>8959</th>\n",
       "      <td>-97.500</td>\n",
       "      <td>48.5</td>\n",
       "      <td>9.661268</td>\n",
       "      <td>-97.500</td>\n",
       "      <td>48.5</td>\n",
       "      <td>1.0</td>\n",
       "      <td>ONSHORE WIND TURBINE</td>\n",
       "      <td>0.0</td>\n",
       "      <td>0.0</td>\n",
       "      <td>0.0</td>\n",
       "    </tr>\n",
       "  </tbody>\n",
       "</table>\n",
       "<p>7448 rows × 10 columns</p>\n",
       "</div>"
      ],
      "text/plain": [
       "          lon   lat      speed  LONGITUDE  LATITUDE  OPER_CAP  \\\n",
       "0    -163.125  66.5   6.009210   -163.125      66.5      17.5   \n",
       "2     -73.125  42.5   4.083856    -73.125      42.5       6.0   \n",
       "3     -72.500  42.0   3.834629    -72.500      42.0       3.0   \n",
       "4    -121.875  38.0   4.627170   -121.875      38.0     228.2   \n",
       "6    -100.000  42.5  10.126925   -100.000      42.5       3.0   \n",
       "...       ...   ...        ...        ...       ...       ...   \n",
       "8947  -97.500  37.5   4.678155    -97.500      37.5     243.5   \n",
       "8948 -101.875  36.5   5.714166   -101.875      36.5      80.0   \n",
       "8951  -73.750  42.5   3.932154    -73.750      42.5       1.5   \n",
       "8958  -77.500  43.0   5.687595    -77.500      43.0       1.7   \n",
       "8959  -97.500  48.5   9.661268    -97.500      48.5       1.0   \n",
       "\n",
       "                                                   TYPE  COAL_USED  NGAS_USED  \\\n",
       "0     BATTERIES; ONSHORE WIND TURBINE; PETROLEUM LIQ...        0.0        0.0   \n",
       "2                                  ONSHORE WIND TURBINE        0.0        0.0   \n",
       "3                                  ONSHORE WIND TURBINE        0.0        0.0   \n",
       "4                                  ONSHORE WIND TURBINE        0.0        0.0   \n",
       "6                                  ONSHORE WIND TURBINE        0.0        0.0   \n",
       "...                                                 ...        ...        ...   \n",
       "8947                               ONSHORE WIND TURBINE        0.0        0.0   \n",
       "8948                               ONSHORE WIND TURBINE        0.0        0.0   \n",
       "8951                               ONSHORE WIND TURBINE        0.0        0.0   \n",
       "8958  NATURAL GAS FIRED COMBUSTION TURBINE; ONSHORE ...        0.0        0.0   \n",
       "8959                               ONSHORE WIND TURBINE        0.0        0.0   \n",
       "\n",
       "      OIL_USED  \n",
       "0      31368.0  \n",
       "2          0.0  \n",
       "3          0.0  \n",
       "4          0.0  \n",
       "6          0.0  \n",
       "...        ...  \n",
       "8947       0.0  \n",
       "8948       0.0  \n",
       "8951       0.0  \n",
       "8958       0.0  \n",
       "8959       0.0  \n",
       "\n",
       "[7448 rows x 10 columns]"
      ]
     },
     "execution_count": 136,
     "metadata": {},
     "output_type": "execute_result"
    }
   ],
   "source": [
    "df_new"
   ]
  },
  {
   "cell_type": "code",
   "execution_count": 137,
   "id": "c504f14f",
   "metadata": {},
   "outputs": [
    {
     "data": {
      "text/html": [
       "<div>\n",
       "<style scoped>\n",
       "    .dataframe tbody tr th:only-of-type {\n",
       "        vertical-align: middle;\n",
       "    }\n",
       "\n",
       "    .dataframe tbody tr th {\n",
       "        vertical-align: top;\n",
       "    }\n",
       "\n",
       "    .dataframe thead th {\n",
       "        text-align: right;\n",
       "    }\n",
       "</style>\n",
       "<table border=\"1\" class=\"dataframe\">\n",
       "  <thead>\n",
       "    <tr style=\"text-align: right;\">\n",
       "      <th></th>\n",
       "      <th>lon</th>\n",
       "      <th>lat</th>\n",
       "      <th>speed</th>\n",
       "      <th>LONGITUDE</th>\n",
       "      <th>LATITUDE</th>\n",
       "      <th>OPER_CAP</th>\n",
       "      <th>COAL_USED</th>\n",
       "      <th>NGAS_USED</th>\n",
       "      <th>OIL_USED</th>\n",
       "    </tr>\n",
       "  </thead>\n",
       "  <tbody>\n",
       "    <tr>\n",
       "      <th>count</th>\n",
       "      <td>7448.000000</td>\n",
       "      <td>7448.000000</td>\n",
       "      <td>7448.000000</td>\n",
       "      <td>7448.000000</td>\n",
       "      <td>7448.000000</td>\n",
       "      <td>7448.000000</td>\n",
       "      <td>7448.000000</td>\n",
       "      <td>7448.000000</td>\n",
       "      <td>7448.000000</td>\n",
       "    </tr>\n",
       "    <tr>\n",
       "      <th>mean</th>\n",
       "      <td>-99.237044</td>\n",
       "      <td>39.979323</td>\n",
       "      <td>6.851709</td>\n",
       "      <td>-99.237044</td>\n",
       "      <td>39.979323</td>\n",
       "      <td>81.317723</td>\n",
       "      <td>-83642.630639</td>\n",
       "      <td>-82575.580961</td>\n",
       "      <td>-82620.957304</td>\n",
       "    </tr>\n",
       "    <tr>\n",
       "      <th>std</th>\n",
       "      <td>14.669892</td>\n",
       "      <td>5.300096</td>\n",
       "      <td>2.380664</td>\n",
       "      <td>14.669892</td>\n",
       "      <td>5.300096</td>\n",
       "      <td>88.426998</td>\n",
       "      <td>276876.776260</td>\n",
       "      <td>276160.580548</td>\n",
       "      <td>275487.673699</td>\n",
       "    </tr>\n",
       "    <tr>\n",
       "      <th>min</th>\n",
       "      <td>-165.625000</td>\n",
       "      <td>17.500000</td>\n",
       "      <td>1.712162</td>\n",
       "      <td>-165.625000</td>\n",
       "      <td>17.500000</td>\n",
       "      <td>0.100000</td>\n",
       "      <td>-999999.000000</td>\n",
       "      <td>-999999.000000</td>\n",
       "      <td>-999999.000000</td>\n",
       "    </tr>\n",
       "    <tr>\n",
       "      <th>25%</th>\n",
       "      <td>-105.000000</td>\n",
       "      <td>36.000000</td>\n",
       "      <td>4.839654</td>\n",
       "      <td>-105.000000</td>\n",
       "      <td>36.000000</td>\n",
       "      <td>9.600000</td>\n",
       "      <td>0.000000</td>\n",
       "      <td>0.000000</td>\n",
       "      <td>0.000000</td>\n",
       "    </tr>\n",
       "    <tr>\n",
       "      <th>50%</th>\n",
       "      <td>-98.125000</td>\n",
       "      <td>41.500000</td>\n",
       "      <td>6.473209</td>\n",
       "      <td>-98.125000</td>\n",
       "      <td>41.500000</td>\n",
       "      <td>51.000000</td>\n",
       "      <td>0.000000</td>\n",
       "      <td>0.000000</td>\n",
       "      <td>0.000000</td>\n",
       "    </tr>\n",
       "    <tr>\n",
       "      <th>75%</th>\n",
       "      <td>-93.125000</td>\n",
       "      <td>43.500000</td>\n",
       "      <td>8.481256</td>\n",
       "      <td>-93.125000</td>\n",
       "      <td>43.500000</td>\n",
       "      <td>130.500000</td>\n",
       "      <td>0.000000</td>\n",
       "      <td>0.000000</td>\n",
       "      <td>0.000000</td>\n",
       "    </tr>\n",
       "    <tr>\n",
       "      <th>max</th>\n",
       "      <td>-66.250000</td>\n",
       "      <td>66.500000</td>\n",
       "      <td>19.251116</td>\n",
       "      <td>-66.250000</td>\n",
       "      <td>66.500000</td>\n",
       "      <td>735.500000</td>\n",
       "      <td>26839.000000</td>\n",
       "      <td>286347.000000</td>\n",
       "      <td>44685.000000</td>\n",
       "    </tr>\n",
       "  </tbody>\n",
       "</table>\n",
       "</div>"
      ],
      "text/plain": [
       "               lon          lat        speed    LONGITUDE     LATITUDE  \\\n",
       "count  7448.000000  7448.000000  7448.000000  7448.000000  7448.000000   \n",
       "mean    -99.237044    39.979323     6.851709   -99.237044    39.979323   \n",
       "std      14.669892     5.300096     2.380664    14.669892     5.300096   \n",
       "min    -165.625000    17.500000     1.712162  -165.625000    17.500000   \n",
       "25%    -105.000000    36.000000     4.839654  -105.000000    36.000000   \n",
       "50%     -98.125000    41.500000     6.473209   -98.125000    41.500000   \n",
       "75%     -93.125000    43.500000     8.481256   -93.125000    43.500000   \n",
       "max     -66.250000    66.500000    19.251116   -66.250000    66.500000   \n",
       "\n",
       "          OPER_CAP      COAL_USED      NGAS_USED       OIL_USED  \n",
       "count  7448.000000    7448.000000    7448.000000    7448.000000  \n",
       "mean     81.317723  -83642.630639  -82575.580961  -82620.957304  \n",
       "std      88.426998  276876.776260  276160.580548  275487.673699  \n",
       "min       0.100000 -999999.000000 -999999.000000 -999999.000000  \n",
       "25%       9.600000       0.000000       0.000000       0.000000  \n",
       "50%      51.000000       0.000000       0.000000       0.000000  \n",
       "75%     130.500000       0.000000       0.000000       0.000000  \n",
       "max     735.500000   26839.000000  286347.000000   44685.000000  "
      ]
     },
     "execution_count": 137,
     "metadata": {},
     "output_type": "execute_result"
    }
   ],
   "source": [
    "df_new.describe()"
   ]
  },
  {
   "cell_type": "code",
   "execution_count": 139,
   "id": "63e90940",
   "metadata": {},
   "outputs": [],
   "source": [
    "df4 = df_new.drop(df_new[(df_new['OIL_USED']==-999999)| (df_new['OIL_USED']==0)].index)\n",
    "df_new.loc[(df_new['OIL_USED']==-999999),\"OIL_USED\"] = df4['OIL_USED'].mean()\n",
    "df_new.loc[(df_new['OIL_USED']==0),\"OIL_USED\"] = min(df4['OIL_USED'])"
   ]
  },
  {
   "cell_type": "code",
   "execution_count": 140,
   "id": "1383b495",
   "metadata": {},
   "outputs": [],
   "source": [
    "df5 = df_new.drop(df_new[(df_new['NGAS_USED']==-999999)| (df_new['NGAS_USED']==0)].index)\n",
    "df_new.loc[(df_new['NGAS_USED']==-999999),\"NGAS_USED\"] = df5['NGAS_USED'].mean()\n",
    "df_new.loc[(df_new['NGAS_USED']==0),\"NGAS_USED\"] = min(df5['NGAS_USED'])"
   ]
  },
  {
   "cell_type": "code",
   "execution_count": 141,
   "id": "8f3f6130",
   "metadata": {},
   "outputs": [],
   "source": [
    "df6 = df_new.drop(df_new[(df_new['COAL_USED']==-999999)| (df_new['COAL_USED']==0)].index)\n",
    "df_new.loc[(df_new['COAL_USED']==-999999),'COAL_USED'] = df6['COAL_USED'].mean()\n",
    "df_new.loc[(df_new['COAL_USED']==0),\"COAL_USED\"] = min(df6['COAL_USED'])"
   ]
  },
  {
   "cell_type": "code",
   "execution_count": 142,
   "id": "79890643",
   "metadata": {},
   "outputs": [
    {
     "data": {
      "text/html": [
       "<div>\n",
       "<style scoped>\n",
       "    .dataframe tbody tr th:only-of-type {\n",
       "        vertical-align: middle;\n",
       "    }\n",
       "\n",
       "    .dataframe tbody tr th {\n",
       "        vertical-align: top;\n",
       "    }\n",
       "\n",
       "    .dataframe thead th {\n",
       "        text-align: right;\n",
       "    }\n",
       "</style>\n",
       "<table border=\"1\" class=\"dataframe\">\n",
       "  <thead>\n",
       "    <tr style=\"text-align: right;\">\n",
       "      <th></th>\n",
       "      <th>lon</th>\n",
       "      <th>lat</th>\n",
       "      <th>speed</th>\n",
       "      <th>LONGITUDE</th>\n",
       "      <th>LATITUDE</th>\n",
       "      <th>OPER_CAP</th>\n",
       "      <th>COAL_USED</th>\n",
       "      <th>NGAS_USED</th>\n",
       "      <th>OIL_USED</th>\n",
       "    </tr>\n",
       "  </thead>\n",
       "  <tbody>\n",
       "    <tr>\n",
       "      <th>count</th>\n",
       "      <td>7448.000000</td>\n",
       "      <td>7448.000000</td>\n",
       "      <td>7448.000000</td>\n",
       "      <td>7448.000000</td>\n",
       "      <td>7448.000000</td>\n",
       "      <td>7448.000000</td>\n",
       "      <td>7448.000000</td>\n",
       "      <td>7448.000000</td>\n",
       "      <td>7448.000000</td>\n",
       "    </tr>\n",
       "    <tr>\n",
       "      <th>mean</th>\n",
       "      <td>-99.237044</td>\n",
       "      <td>39.979323</td>\n",
       "      <td>6.851709</td>\n",
       "      <td>-99.237044</td>\n",
       "      <td>39.979323</td>\n",
       "      <td>81.317723</td>\n",
       "      <td>816.505236</td>\n",
       "      <td>6909.843801</td>\n",
       "      <td>1170.337535</td>\n",
       "    </tr>\n",
       "    <tr>\n",
       "      <th>std</th>\n",
       "      <td>14.669892</td>\n",
       "      <td>5.300096</td>\n",
       "      <td>2.380664</td>\n",
       "      <td>14.669892</td>\n",
       "      <td>5.300096</td>\n",
       "      <td>88.426998</td>\n",
       "      <td>1254.747784</td>\n",
       "      <td>23652.194365</td>\n",
       "      <td>3806.289344</td>\n",
       "    </tr>\n",
       "    <tr>\n",
       "      <th>min</th>\n",
       "      <td>-165.625000</td>\n",
       "      <td>17.500000</td>\n",
       "      <td>1.712162</td>\n",
       "      <td>-165.625000</td>\n",
       "      <td>17.500000</td>\n",
       "      <td>0.100000</td>\n",
       "      <td>445.000000</td>\n",
       "      <td>12.000000</td>\n",
       "      <td>54.000000</td>\n",
       "    </tr>\n",
       "    <tr>\n",
       "      <th>25%</th>\n",
       "      <td>-105.000000</td>\n",
       "      <td>36.000000</td>\n",
       "      <td>4.839654</td>\n",
       "      <td>-105.000000</td>\n",
       "      <td>36.000000</td>\n",
       "      <td>9.600000</td>\n",
       "      <td>445.000000</td>\n",
       "      <td>12.000000</td>\n",
       "      <td>54.000000</td>\n",
       "    </tr>\n",
       "    <tr>\n",
       "      <th>50%</th>\n",
       "      <td>-98.125000</td>\n",
       "      <td>41.500000</td>\n",
       "      <td>6.473209</td>\n",
       "      <td>-98.125000</td>\n",
       "      <td>41.500000</td>\n",
       "      <td>51.000000</td>\n",
       "      <td>445.000000</td>\n",
       "      <td>12.000000</td>\n",
       "      <td>54.000000</td>\n",
       "    </tr>\n",
       "    <tr>\n",
       "      <th>75%</th>\n",
       "      <td>-93.125000</td>\n",
       "      <td>43.500000</td>\n",
       "      <td>8.481256</td>\n",
       "      <td>-93.125000</td>\n",
       "      <td>43.500000</td>\n",
       "      <td>130.500000</td>\n",
       "      <td>445.000000</td>\n",
       "      <td>12.000000</td>\n",
       "      <td>54.000000</td>\n",
       "    </tr>\n",
       "    <tr>\n",
       "      <th>max</th>\n",
       "      <td>-66.250000</td>\n",
       "      <td>66.500000</td>\n",
       "      <td>19.251116</td>\n",
       "      <td>-66.250000</td>\n",
       "      <td>66.500000</td>\n",
       "      <td>735.500000</td>\n",
       "      <td>26839.000000</td>\n",
       "      <td>286347.000000</td>\n",
       "      <td>44685.000000</td>\n",
       "    </tr>\n",
       "  </tbody>\n",
       "</table>\n",
       "</div>"
      ],
      "text/plain": [
       "               lon          lat        speed    LONGITUDE     LATITUDE  \\\n",
       "count  7448.000000  7448.000000  7448.000000  7448.000000  7448.000000   \n",
       "mean    -99.237044    39.979323     6.851709   -99.237044    39.979323   \n",
       "std      14.669892     5.300096     2.380664    14.669892     5.300096   \n",
       "min    -165.625000    17.500000     1.712162  -165.625000    17.500000   \n",
       "25%    -105.000000    36.000000     4.839654  -105.000000    36.000000   \n",
       "50%     -98.125000    41.500000     6.473209   -98.125000    41.500000   \n",
       "75%     -93.125000    43.500000     8.481256   -93.125000    43.500000   \n",
       "max     -66.250000    66.500000    19.251116   -66.250000    66.500000   \n",
       "\n",
       "          OPER_CAP     COAL_USED      NGAS_USED      OIL_USED  \n",
       "count  7448.000000   7448.000000    7448.000000   7448.000000  \n",
       "mean     81.317723    816.505236    6909.843801   1170.337535  \n",
       "std      88.426998   1254.747784   23652.194365   3806.289344  \n",
       "min       0.100000    445.000000      12.000000     54.000000  \n",
       "25%       9.600000    445.000000      12.000000     54.000000  \n",
       "50%      51.000000    445.000000      12.000000     54.000000  \n",
       "75%     130.500000    445.000000      12.000000     54.000000  \n",
       "max     735.500000  26839.000000  286347.000000  44685.000000  "
      ]
     },
     "execution_count": 142,
     "metadata": {},
     "output_type": "execute_result"
    }
   ],
   "source": [
    "df_new.describe()"
   ]
  },
  {
   "cell_type": "code",
   "execution_count": 211,
   "id": "9b3a7195",
   "metadata": {},
   "outputs": [
    {
     "data": {
      "image/png": "[encoded data removed]",
      "text/plain": [
       "<Figure size 600x400 with 1 Axes>"
      ]
     },
     "metadata": {
      "needs_background": "light"
     },
     "output_type": "display_data"
    }
   ],
   "source": [
    "plt.figure(dpi=100)\n",
    "sns.boxplot(y=df_new['OIL_USED'],\n",
    "            showmeans=True,\n",
    "            meanprops = {'marker':'D','markerfacecolor':'red'},\n",
    "           )\n",
    "plt.show()"
   ]
  },
  {
   "cell_type": "code",
   "execution_count": 214,
   "id": "43b5618f",
   "metadata": {},
   "outputs": [
    {
     "data": {
      "text/plain": [
       "54.000000       6782\n",
       "12519.490196     616\n",
       "55.000000          5\n",
       "27071.000000       5\n",
       "44292.000000       5\n",
       "372.000000         5\n",
       "81.000000          5\n",
       "217.000000         5\n",
       "24528.000000       5\n",
       "92.000000          5\n",
       "44685.000000       1\n",
       "23476.000000       1\n",
       "89.000000          1\n",
       "202.000000         1\n",
       "31368.000000       1\n",
       "29042.000000       1\n",
       "102.000000         1\n",
       "71.000000          1\n",
       "25781.000000       1\n",
       "84.000000          1\n",
       "Name: OIL_USED, dtype: int64"
      ]
     },
     "execution_count": 214,
     "metadata": {},
     "output_type": "execute_result"
    }
   ],
   "source": [
    "df_new['OIL_USED'].value_counts()"
   ]
  },
  {
   "cell_type": "code",
   "execution_count": 145,
   "id": "a5cfa2dd",
   "metadata": {},
   "outputs": [
    {
     "data": {
      "image/png": "[encoded data removed]",
      "text/plain": [
       "<Figure size 600x400 with 1 Axes>"
      ]
     },
     "metadata": {
      "needs_background": "light"
     },
     "output_type": "display_data"
    }
   ],
   "source": [
    "plt.figure(dpi=100)\n",
    "sns.boxplot(y=df_new['OPER_CAP'],\n",
    "            showmeans=True,\n",
    "            meanprops = {'marker':'D','markerfacecolor':'red'},\n",
    "           )\n",
    "plt.show()"
   ]
  },
  {
   "cell_type": "code",
   "execution_count": 149,
   "id": "a8f723cd",
   "metadata": {},
   "outputs": [],
   "source": [
    "reg_df = df_new[['OPER_CAP','speed','OIL_USED','COAL_USED','NGAS_USED']]"
   ]
  },
  {
   "cell_type": "code",
   "execution_count": 261,
   "id": "d1059528",
   "metadata": {},
   "outputs": [],
   "source": [
    "reg_df = reg_df.reset_index()"
   ]
  },
  {
   "cell_type": "code",
   "execution_count": 369,
   "id": "20b50d25",
   "metadata": {},
   "outputs": [],
   "source": [
    "from sklearn.preprocessing import MinMaxScaler,StandardScaler\n",
    "from sklearn.preprocessing import Normalizer\n",
    "df_std = reg_df.copy()\n",
    "df_std[['COAL_USED','OIL_USED','NGAS_USED']] = StandardScaler().fit_transform(df_std[['COAL_USED','OIL_USED','NGAS_USED']])\n",
    "df_std[['speed']] = StandardScaler().fit_transform(df_std[['speed']])\n",
    "df_std[['OPER_CAP']] = StandardScaler().fit_transform(df_std[['OPER_CAP']])"
   ]
  },
  {
   "cell_type": "code",
   "execution_count": 370,
   "id": "88629693",
   "metadata": {},
   "outputs": [],
   "source": [
    "df_std=df_std.drop(columns=['index'])"
   ]
  },
  {
   "cell_type": "code",
   "execution_count": 371,
   "id": "57e996ea",
   "metadata": {},
   "outputs": [
    {
     "data": {
      "text/html": [
       "<div>\n",
       "<style scoped>\n",
       "    .dataframe tbody tr th:only-of-type {\n",
       "        vertical-align: middle;\n",
       "    }\n",
       "\n",
       "    .dataframe tbody tr th {\n",
       "        vertical-align: top;\n",
       "    }\n",
       "\n",
       "    .dataframe thead th {\n",
       "        text-align: right;\n",
       "    }\n",
       "</style>\n",
       "<table border=\"1\" class=\"dataframe\">\n",
       "  <thead>\n",
       "    <tr style=\"text-align: right;\">\n",
       "      <th></th>\n",
       "      <th>OPER_CAP</th>\n",
       "      <th>speed</th>\n",
       "      <th>OIL_USED</th>\n",
       "      <th>COAL_USED</th>\n",
       "      <th>NGAS_USED</th>\n",
       "    </tr>\n",
       "  </thead>\n",
       "  <tbody>\n",
       "    <tr>\n",
       "      <th>0</th>\n",
       "      <td>-0.721748</td>\n",
       "      <td>-0.353916</td>\n",
       "      <td>7.934155</td>\n",
       "      <td>-0.296099</td>\n",
       "      <td>-0.291656</td>\n",
       "    </tr>\n",
       "    <tr>\n",
       "      <th>1</th>\n",
       "      <td>-0.851807</td>\n",
       "      <td>-1.162718</td>\n",
       "      <td>-0.293307</td>\n",
       "      <td>-0.296099</td>\n",
       "      <td>-0.291656</td>\n",
       "    </tr>\n",
       "    <tr>\n",
       "      <th>2</th>\n",
       "      <td>-0.885736</td>\n",
       "      <td>-1.267413</td>\n",
       "      <td>-0.293307</td>\n",
       "      <td>-0.296099</td>\n",
       "      <td>-0.291656</td>\n",
       "    </tr>\n",
       "    <tr>\n",
       "      <th>3</th>\n",
       "      <td>1.661168</td>\n",
       "      <td>-0.934483</td>\n",
       "      <td>-0.293307</td>\n",
       "      <td>-0.296099</td>\n",
       "      <td>-0.291656</td>\n",
       "    </tr>\n",
       "    <tr>\n",
       "      <th>4</th>\n",
       "      <td>-0.885736</td>\n",
       "      <td>1.375850</td>\n",
       "      <td>-0.293307</td>\n",
       "      <td>-0.296099</td>\n",
       "      <td>-0.291656</td>\n",
       "    </tr>\n",
       "  </tbody>\n",
       "</table>\n",
       "</div>"
      ],
      "text/plain": [
       "   OPER_CAP     speed  OIL_USED  COAL_USED  NGAS_USED\n",
       "0 -0.721748 -0.353916  7.934155  -0.296099  -0.291656\n",
       "1 -0.851807 -1.162718 -0.293307  -0.296099  -0.291656\n",
       "2 -0.885736 -1.267413 -0.293307  -0.296099  -0.291656\n",
       "3  1.661168 -0.934483 -0.293307  -0.296099  -0.291656\n",
       "4 -0.885736  1.375850 -0.293307  -0.296099  -0.291656"
      ]
     },
     "execution_count": 371,
     "metadata": {},
     "output_type": "execute_result"
    }
   ],
   "source": [
    "df_std.head()"
   ]
  },
  {
   "cell_type": "code",
   "execution_count": 372,
   "id": "129bfa1b",
   "metadata": {},
   "outputs": [],
   "source": [
    "X = df_std.drop(columns=['OPER_CAP'])\n",
    "y = df_std[['OPER_CAP']]"
   ]
  },
  {
   "cell_type": "code",
   "execution_count": 373,
   "id": "35040c2b",
   "metadata": {},
   "outputs": [],
   "source": [
    "#X_std = X_std.reset_index()"
   ]
  },
  {
   "cell_type": "code",
   "execution_count": 375,
   "id": "ee09a704",
   "metadata": {},
   "outputs": [
    {
     "data": {
      "image/png": "[encoded data removed]",
      "text/plain": [
       "<Figure size 432x288 with 2 Axes>"
      ]
     },
     "metadata": {
      "needs_background": "light"
     },
     "output_type": "display_data"
    }
   ],
   "source": [
    "sns.heatmap(df_std.corr(), annot=True, cmap=\"YlGnBu\")\n",
    "plt.show()"
   ]
  },
  {
   "cell_type": "code",
   "execution_count": 340,
   "id": "f1942e14",
   "metadata": {},
   "outputs": [],
   "source": [
    "X_lr = df_std.drop(columns=['OPER_CAP'])\n",
    "y = df_std['OPER_CAP']"
   ]
  },
  {
   "cell_type": "code",
   "execution_count": 344,
   "id": "bfe00adc",
   "metadata": {},
   "outputs": [],
   "source": [
    "from sklearn.linear_model import LinearRegression\n",
    "from sklearn.model_selection import train_test_split\n",
    "\n",
    "X_train, X_test, y_train, y_test = train_test_split(X, y, test_size=0.2, random_state=10)\n",
    "lr = LinearRegression().fit(X_train, y_train)\n"
   ]
  },
  {
   "cell_type": "code",
   "execution_count": 345,
   "id": "21e976cc",
   "metadata": {},
   "outputs": [
    {
     "data": {
      "text/plain": [
       "[('speed', -52.85224832637091),\n",
       " ('COAL_USED', -58.088645860615856),\n",
       " ('NGAS_USED', -62.930477397493966),\n",
       " ('OIL_USED', -112.23512567870915)]"
      ]
     },
     "execution_count": 345,
     "metadata": {},
     "output_type": "execute_result"
    }
   ],
   "source": [
    "'intercept:'+ str(lr.intercept_)\n",
    "\n",
    "sorted(dict(zip(X_std.columns, lr.coef_)).items(), key=lambda x:x[1], reverse=True)"
   ]
  },
  {
   "cell_type": "code",
   "execution_count": 390,
   "id": "8fd6a14d",
   "metadata": {},
   "outputs": [],
   "source": [
    "from sklearn.metrics import mean_squared_error\n",
    "from sklearn.metrics import r2_score\n",
    "y_pred = lr.predict(X_train)\n",
    "r2 = r2_score(y_train, y_pred)\n",
    "mse = mean_squared_error(y_train, y_pred)     "
   ]
  },
  {
   "cell_type": "code",
   "execution_count": 391,
   "id": "89be0fa2",
   "metadata": {},
   "outputs": [
    {
     "data": {
      "text/plain": [
       "0.008802936687062446"
      ]
     },
     "execution_count": 391,
     "metadata": {},
     "output_type": "execute_result"
    }
   ],
   "source": [
    "r2"
   ]
  },
  {
   "cell_type": "code",
   "execution_count": 353,
   "id": "c3be0885",
   "metadata": {},
   "outputs": [
    {
     "data": {
      "text/plain": [
       "8543.265214916539"
      ]
     },
     "execution_count": 353,
     "metadata": {},
     "output_type": "execute_result"
    }
   ],
   "source": [
    "mse"
   ]
  },
  {
   "cell_type": "code",
   "execution_count": 349,
   "id": "0ab77042",
   "metadata": {},
   "outputs": [],
   "source": [
    "from sklearn.svm import SVR\n",
    "svr_rbf = SVR(kernel=\"rbf\", C=100, gamma=0.1, epsilon=0.1).fit(X_train, y_train)\n",
    "y_pred_svr = svr_rbf.predict(X_test)"
   ]
  },
  {
   "cell_type": "code",
   "execution_count": 407,
   "id": "f7c73549",
   "metadata": {},
   "outputs": [
    {
     "data": {
      "text/plain": [
       "-0.09576856708903247"
      ]
     },
     "execution_count": 407,
     "metadata": {},
     "output_type": "execute_result"
    }
   ],
   "source": [
    "r2 = r2_score(y_test, y_pred_svr)\n",
    "r2"
   ]
  },
  {
   "cell_type": "code",
   "execution_count": 354,
   "id": "d06d78ea",
   "metadata": {},
   "outputs": [
    {
     "data": {
      "text/plain": [
       "9441.915529596035"
      ]
     },
     "execution_count": 354,
     "metadata": {},
     "output_type": "execute_result"
    }
   ],
   "source": [
    "mean_squared_error(y_test, y_pred_svr) "
   ]
  },
  {
   "cell_type": "code",
   "execution_count": 383,
   "id": "bbb0d97c",
   "metadata": {},
   "outputs": [
    {
     "data": {
      "text/plain": [
       "(4, 0)"
      ]
     },
     "execution_count": 383,
     "metadata": {},
     "output_type": "execute_result"
    }
   ],
   "source": [
    "d = {\n",
    "    'Feature': X_train.columns,\n",
    "    'Importance': abs(lr.coef_)\n",
    "}\n",
    "dt_imp = pd.DataFrame(d)\n",
    "dt_imp = dt_imp.sort_values('Importance', ascending=False)\n",
    "dt_imp.index = range(len(dt_imp))\n",
    "(dt_imp['Importance']!=0).sum(), (dt_imp['Importance']==0).sum()"
   ]
  },
  {
   "cell_type": "code",
   "execution_count": 384,
   "id": "7698f13d",
   "metadata": {},
   "outputs": [
    {
     "data": {
      "text/plain": [
       "{'Feature': Index(['speed', 'OIL_USED', 'COAL_USED', 'NGAS_USED'], dtype='object'),\n",
       " 'Importance': array([ 52.85224833, 112.23512568,  58.08864586,  62.9304774 ])}"
      ]
     },
     "execution_count": 384,
     "metadata": {},
     "output_type": "execute_result"
    }
   ],
   "source": [
    "d"
   ]
  },
  {
   "cell_type": "code",
   "execution_count": 406,
   "id": "03eea13d",
   "metadata": {},
   "outputs": [
    {
     "data": {
      "text/plain": [
       "Text(0.5, 1.0, 'Feature Importance from lr')"
      ]
     },
     "execution_count": 406,
     "metadata": {},
     "output_type": "execute_result"
    },
    {
     "data": {
      "image/png": "[encoded data removed]",
      "text/plain": [
       "<Figure size 720x576 with 1 Axes>"
      ]
     },
     "metadata": {
      "needs_background": "light"
     },
     "output_type": "display_data"
    }
   ],
   "source": [
    "plt.figure(figsize=(10,8))\n",
    "sns.barplot(data=dt_imp[dt_imp['Importance']!=0][:10], y='Feature', x='Importance', palette='Set3')\n",
    "plt.title('Feature Importance from lr')"
   ]
  },
  {
   "cell_type": "code",
   "execution_count": 405,
   "id": "0acb74df",
   "metadata": {},
   "outputs": [
    {
     "data": {
      "image/png": "[encoded data removed]",
      "text/plain": [
       "<Figure size 432x288 with 1 Axes>"
      ]
     },
     "metadata": {
      "needs_background": "light"
     },
     "output_type": "display_data"
    }
   ],
   "source": [
    "subsample_index = np.random.randint(low=0, high=len(y_pred), size=100)\n",
    "plt.scatter(X['COAL_USED'].iloc[subsample_index],y.iloc[subsample_index], color='black')\n",
    "plt.scatter(X['COAL_USED'].iloc[subsample_index], svr_rbf.predict(X.iloc[subsample_index]), color='blue')\n",
    "plt.xlabel('COAL_USED')\n",
    "plt.ylabel('power generation')\n",
    "plt.legend(['True','Predicted'],loc='upper right')\n",
    "plt.show()"
   ]
  },
  {
   "cell_type": "code",
   "execution_count": null,
   "id": "41e0727b",
   "metadata": {},
   "outputs": [],
   "source": []
  }
 ],
 "metadata": {
  "kernelspec": {
   "display_name": "Python 3",
   "language": "python",
   "name": "python3"
  },
  "language_info": {
   "codemirror_mode": {
    "name": "ipython",
    "version": 3
   },
   "file_extension": ".py",
   "mimetype": "text/x-python",
   "name": "python",
   "nbconvert_exporter": "python",
   "pygments_lexer": "ipython3",
   "version": "3.7.6"
  }
 },
 "nbformat": 4,
 "nbformat_minor": 5
}
